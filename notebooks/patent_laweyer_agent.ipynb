{
 "cells": [
  {
   "cell_type": "markdown",
   "id": "4c79d48e",
   "metadata": {},
   "source": [
    "# Patent Layer Agent"
   ]
  },
  {
   "cell_type": "markdown",
   "id": "29adbc4e",
   "metadata": {},
   "source": [
    "## Imports"
   ]
  },
  {
   "cell_type": "code",
   "execution_count": null,
   "id": "6b52bf4a",
   "metadata": {},
   "outputs": [],
   "source": [
    "import os\n",
    "from dotenv import load_dotenv\n",
    "import time\n",
    "import requests\n",
    "\n",
    "from typing_extensions import List, TypedDict\n",
    "from langchain_core.documents import Document\n",
    "from langgraph.graph import StateGraph, MessagesState, END\n",
    "from langgraph.checkpoint.memory import MemorySaver\n",
    "\n",
    "from langchain.document_loaders import PyPDFLoader\n",
    "from langchain_community.document_loaders import Docx2txtLoader\n",
    "from langchain_text_splitters import RecursiveCharacterTextSplitter\n",
    "from langchain_chroma import Chroma\n",
    "\n",
    "from langchain_openai import OpenAIEmbeddings, ChatOpenAI\n",
    "from langchain.prompts import PromptTemplate\n",
    "from langchain.schema.runnable import RunnableMap\n",
    "from langchain.schema.output_parser import StrOutputParser\n",
    "\n",
    "import langchain_core"
   ]
  },
  {
   "cell_type": "code",
   "execution_count": null,
   "id": "33c7ef31",
   "metadata": {},
   "outputs": [],
   "source": [
    "load_dotenv()"
   ]
  },
  {
   "cell_type": "code",
   "execution_count": null,
   "id": "b4c2e738",
   "metadata": {},
   "outputs": [],
   "source": [
    "SERP_API_KEY = os.getenv(\"SERP_API_KEY\")\n",
    "SERP_API_KEY"
   ]
  },
  {
   "cell_type": "code",
   "execution_count": null,
   "id": "5d9ef5f3",
   "metadata": {},
   "outputs": [],
   "source": [
    "openai_api = os.getenv(\"OPENAI_API_KEY\")\n",
    "langsmith_api = os.getenv(\"LANGSMITH_API_KEY\")\n",
    "os.environ[\"LANGSMITH_TRACING\"] = \"true\"\n",
    "TAVILY_API_KEY = os.getenv(\"TAVILY_API_KEY\")"
   ]
  },
  {
   "cell_type": "markdown",
   "id": "c8e64868",
   "metadata": {},
   "source": [
    "## Load Documents"
   ]
  },
  {
   "cell_type": "code",
   "execution_count": null,
   "id": "432b3e86",
   "metadata": {},
   "outputs": [],
   "source": [
    "file_path = os.path.join(os.path.dirname(os.getcwd()), 'docs', 'knowledge_base')\n",
    "file_path"
   ]
  },
  {
   "cell_type": "code",
   "execution_count": null,
   "id": "a4a45c9d",
   "metadata": {},
   "outputs": [],
   "source": [
    "pdf_list = [f for f in os.listdir(file_path) if f.endswith('.pdf')]\n",
    "pdf_list"
   ]
  },
  {
   "cell_type": "code",
   "execution_count": null,
   "id": "0c60121c",
   "metadata": {},
   "outputs": [],
   "source": [
    "pdf_docs = {}\n",
    "for i in range(len(pdf_list)):\n",
    "    loader = PyPDFLoader(os.path.join(file_path, pdf_list[i]))\n",
    "    pages = loader.load()\n",
    "    pdf_docs[pdf_list[i]] = pages\n",
    "\n",
    "pdf_docs"
   ]
  },
  {
   "cell_type": "code",
   "execution_count": null,
   "id": "18e07f23",
   "metadata": {},
   "outputs": [],
   "source": [
    "pdf_docs['top-tips-for-o.pdf'][2].page_content"
   ]
  },
  {
   "cell_type": "markdown",
   "id": "0d8a65e5",
   "metadata": {},
   "source": [
    "## Split documents into chunks"
   ]
  },
  {
   "cell_type": "code",
   "execution_count": null,
   "id": "6c6accd0",
   "metadata": {},
   "outputs": [],
   "source": [
    "text_splitter = RecursiveCharacterTextSplitter(\n",
    "    chunk_size=1000, chunk_overlap=200, add_start_index=True\n",
    ")"
   ]
  },
  {
   "cell_type": "code",
   "execution_count": null,
   "id": "05a213fc",
   "metadata": {},
   "outputs": [],
   "source": [
    "pdf_splits = {}\n",
    "for p in pdf_docs:\n",
    "    pdf_splits[p] = text_splitter.split_documents(pdf_docs[p])\n",
    "\n",
    "pdf_splits"
   ]
  },
  {
   "cell_type": "code",
   "execution_count": null,
   "id": "47599171",
   "metadata": {},
   "outputs": [],
   "source": [
    "len(pdf_docs['top-tips-for-o.pdf']), len(pdf_splits['top-tips-for-o.pdf'])"
   ]
  },
  {
   "cell_type": "markdown",
   "id": "1971a995",
   "metadata": {},
   "source": [
    "## Embed chunks and save in vector store"
   ]
  },
  {
   "cell_type": "code",
   "execution_count": null,
   "id": "7e806b58",
   "metadata": {},
   "outputs": [],
   "source": [
    "persist_directory = os.path.join(os.path.dirname(os.getcwd()), 'data')\n",
    "persist_directory"
   ]
  },
  {
   "cell_type": "code",
   "execution_count": null,
   "id": "20ce03d4",
   "metadata": {},
   "outputs": [],
   "source": [
    "embeddings = OpenAIEmbeddings(model=\"text-embedding-3-large\")"
   ]
  },
  {
   "cell_type": "code",
   "execution_count": null,
   "id": "d5ea8392",
   "metadata": {},
   "outputs": [],
   "source": [
    "vector_store = Chroma(embedding_function=embeddings, persist_directory=persist_directory)"
   ]
  },
  {
   "cell_type": "code",
   "execution_count": null,
   "id": "fa6e7726",
   "metadata": {},
   "outputs": [],
   "source": [
    "vector_store._collection.count()"
   ]
  },
  {
   "cell_type": "code",
   "execution_count": null,
   "id": "d1b63c75",
   "metadata": {},
   "outputs": [],
   "source": [
    "id_list = []\n",
    "for s in pdf_splits:\n",
    "    ids = vector_store.add_documents(pdf_splits[s])\n",
    "    id_list.extend(ids)"
   ]
  },
  {
   "cell_type": "code",
   "execution_count": null,
   "id": "a5a0f118",
   "metadata": {},
   "outputs": [],
   "source": [
    "id_list[0], len(id_list)"
   ]
  },
  {
   "cell_type": "code",
   "execution_count": null,
   "id": "ef81ca3b",
   "metadata": {},
   "outputs": [],
   "source": [
    "vector_store.get(id_list[0])"
   ]
  },
  {
   "cell_type": "code",
   "execution_count": null,
   "id": "d9c9d021",
   "metadata": {},
   "outputs": [],
   "source": [
    "vector_store._collection.count()"
   ]
  },
  {
   "cell_type": "markdown",
   "id": "d4519395",
   "metadata": {},
   "source": [
    "## Querying the data base"
   ]
  },
  {
   "cell_type": "code",
   "execution_count": null,
   "id": "50db68f4",
   "metadata": {},
   "outputs": [],
   "source": [
    "results = vector_store.similarity_search_with_score(\n",
    "    \"What are the 3 most important things to know when submitting a patent application?\",\n",
    "    k=5\n",
    ")\n",
    "\n",
    "results"
   ]
  },
  {
   "cell_type": "code",
   "execution_count": null,
   "id": "c9b7f6fc",
   "metadata": {},
   "outputs": [],
   "source": [
    "print(results[0][0].page_content)"
   ]
  },
  {
   "cell_type": "code",
   "execution_count": null,
   "id": "b5101671",
   "metadata": {},
   "outputs": [],
   "source": [
    "vectordb = Chroma(persist_directory=persist_directory, embedding_function=embeddings)"
   ]
  },
  {
   "cell_type": "code",
   "execution_count": null,
   "id": "7f724b9e",
   "metadata": {},
   "outputs": [],
   "source": [
    "results = vectordb.similarity_search_with_score(\n",
    "    \"What are the 3 most important things to know when submitting a patent application?\",\n",
    "    k=5\n",
    ")\n",
    "\n",
    "results"
   ]
  },
  {
   "cell_type": "code",
   "execution_count": null,
   "id": "e20e9c31",
   "metadata": {},
   "outputs": [],
   "source": [
    "print(results[0][0].page_content)"
   ]
  },
  {
   "cell_type": "markdown",
   "id": "42dbdc1c",
   "metadata": {},
   "source": [
    "## Retrieval"
   ]
  },
  {
   "cell_type": "code",
   "execution_count": null,
   "id": "b0ea0b94",
   "metadata": {},
   "outputs": [],
   "source": [
    "retriever = vector_store.as_retriever(\n",
    "    search_type=\"mmr\",\n",
    "    search_kwargs={\"k\": 10, \"fetch_k\": 20},\n",
    ")\n",
    "\n",
    "retriever"
   ]
  },
  {
   "cell_type": "code",
   "execution_count": null,
   "id": "37fdc15f",
   "metadata": {},
   "outputs": [],
   "source": [
    "retriever.invoke(\"What are the 3 most important things to know when submitting a patent application?\")"
   ]
  },
  {
   "cell_type": "markdown",
   "id": "95bc6de5",
   "metadata": {},
   "source": [
    "## Q&A chat model"
   ]
  },
  {
   "cell_type": "code",
   "execution_count": null,
   "id": "061404d9",
   "metadata": {},
   "outputs": [],
   "source": [
    "model = ChatOpenAI(model=\"gpt-4o\", temperature=0, streaming=True)"
   ]
  },
  {
   "cell_type": "code",
   "execution_count": null,
   "id": "e4da12af",
   "metadata": {},
   "outputs": [],
   "source": [
    "prompt_template = \"\"\"\n",
    "    # Persona\n",
    "    You are a patent lawyer. You are an expert in responding to Office Actions in a way that complies with the \\\n",
    "    MANUAL OF PATENT EXAMINING PROCEDURE. You have a deep knowledge and understanding in the patent rules and laws, \\\n",
    "    and you know how to respond to claim rejections either by making amendments to the claims or by making \\\n",
    "    remarks to dispute the rejection.\n",
    "\n",
    "    # Task\n",
    "    You will get a Patent Application document, and an Office Action document from the examiner of the \\\n",
    "    United States Patent and Trademark Office. Your job is to respond to all claim rejections in the best way \\\n",
    "    possible. You can amend a claim, add a remark, dispute the rejection, remove claim or unite two claims. \\\n",
    "    You will create a new document of 'Response to Office Action' in a formal way that is acceptable by the \\\n",
    "    United States Patent and Trademark Office.\n",
    "    You will create the following sections one at a time:\n",
    "    - Title\n",
    "    - Amendment\n",
    "    - Amendments to the specification\n",
    "    - Amendments to the claims\n",
    "    - Remarks\n",
    "    - Conclusion\n",
    "\n",
    "    Do NOT write it all in a single output, write each section individually. After you write a section ask the user \\\n",
    "    if it is good and wait for a reply before you continue. If the user approves send the section to make.com \\\n",
    "    using the sendPatentRequest tool. Then go on to write next section.\n",
    "\n",
    "    # Action Steps\n",
    "    - The user will give you a Patent application documents and an Office Action document.\n",
    "\n",
    "    - Make sure you have all the information needed to respond to the Office Action, \\\n",
    "        and ask clarifying question if you need more information.\n",
    "\n",
    "    - Write the Title and ask the user if it is good. Wait for a response before you continue. \\\n",
    "        If the user asks for adjustments, rewrite this section. Otherwise, proceed.\n",
    "\n",
    "    - Use the sendPatentRequest tool to send the title to make.com in the 'invention_title' field of the schema.\n",
    "\n",
    "    - Write the Amendment section with this template:\n",
    "        \"Commissioner for Patents\n",
    "        P.O. Box 1450\n",
    "        Alexandria, VA 22313-1450\n",
    "\n",
    "        Sir:\n",
    "            This communication is in reply to the Office Action dated {date}, and issued by the \\\n",
    "                United States Patent and Trademark Office in connection with the above-identified Patent Application.\"\n",
    "      Fill in the the date variable with the date of the Office Action document, if you can't find the date ask the user for it. \\\n",
    "      Wait for a response before you continue. If the user asks for adjustments, rewrite this section. Otherwise, proceed.\n",
    "\n",
    "    - Use the sendPatentRequest tool to send the text of this section to make.com in the 'amendment' field of the schema.\n",
    "\n",
    "    - Write the Amendments to the specification section and ask the user if it is good. Wait for a response before you continue. \\\n",
    "        If the user asks for adjustments, rewrite this section. Otherwise, proceed.\n",
    "\n",
    "    - Use the sendPatentRequest tool to send the text of this section to make.com \\\n",
    "        in the 'amendments_to_specification' field of the schema.\n",
    "\n",
    "    - Write the Amendments to the claims section and ask the user if it is good. Wait for a response before you continue. \\\n",
    "        If the user asks for adjustments, rewrite this section. Otherwise, proceed.\n",
    "\n",
    "    - Use the sendPatentRequest tool to send the text of this section to make.com \\\n",
    "        in the 'amendments_to_claims' field of the schema.\n",
    "\n",
    "    - Write the Remarks section and ask the user if it is good. Wait for a response before you continue. \\\n",
    "        If the user asks for adjustments, rewrite this section. Otherwise, proceed.\n",
    "\n",
    "    - Use the sendPatentRequest tool to send the text of this section to make.com in the 'remarks' field of the schema.\n",
    "\n",
    "    - Write the Conclusion section and ask the user if it is good. Wait for a response before you continue. \\\n",
    "        If the user asks for adjustments, rewrite this section. Otherwise, proceed.\n",
    "\n",
    "    - Use the sendPatentRequest tool to send the text of this section to make.com in the 'conclusion' field of the schema.\n",
    "\n",
    "    # Examples\n",
    "    Here are some examples of Office Actions and their corresponding responses:\n",
    "    - Office Action 1:\n",
    "            DETAILED ACTION Notice of Pre-AIA or AIA Status\n",
    "        1. The present application, filed on or after March 16, 2013, is being examined under the first inventor to file provisions of the AIA.\n",
    "        Information Disclosure Statement\n",
    "        2. The information disclosure statements (IDS) submitted on 08/24/2022, 08/06/2023 and 12/26/2023 are acknowledged. The submission is in compliance with the provisions of 37 CFR 1.97. Accordingly, the information disclosure statements have been considered by the examiner. See attached copies of PTO-1449.\n",
    "        Specification\n",
    "        The disclosure is objected to because of the following informalities: The use of the terms Carbopol 974P NF (Carbomer Homopolymer Type B), Carbopol 971P NF (Carbomer Homopolymer Type A), Carbopol 934P NF (Carbomer 934P), Carbopol 71 G, Carbopol 980 NF (Carbomer Homopolymer Type C), Carbopol 981 NF, Carbopol 5964 EP, Carbopol 940 NF, Carbopol 941 NF, Carbopol 1342 NF, Carbopol 934 NF, Carbopol ETD 2020 NF, Carbopol Ultrez 10 NF, Carbopol TR-1 NF, Carbopol TR-2 NF, which are trade names or marks used in commerce, have been noted in this application. The term should be accompanied by the generic terminology; furthermore, the term should be capitalized wherever it appears or, where appropriate, include a proper symbol indicating use in commerce such as TM, SM, or R following the term.\n",
    "        Although the use of trade names and marks used in commerce (i.e., trademarks, service marks, certification marks, and collective marks) are permissible in patent applications, the proprietary nature of the marks should be respected and every effort\n",
    "        made to prevent their use in any manner which might adversely affect their validity as\n",
    "        commercial marks.\n",
    "        Appropriate correction is required.\n",
    "        Claim Rejections - 35 USC § 112\n",
    "        3. The following is a quotation of 35 U.S.C. 112(b):\n",
    "        (b) CONCLUSION.-The specification shall conclude with one or more claims particularly pointing out and distinctly claiming the subject matter which the inventor or a joint inventor regards as the invention.\n",
    "        The following is a quotation of 35 U.S.C. 112 (pre-AIA), second paragraph: The specification shall conclude with one or more claims particularly pointing out and distinctly claiming the subject matter which the applicant regards as his invention.\n",
    "        Claim 4 is rejected under 35 U.S.C. 112(b) or 35 U.S.C. 112 (pre-AIA), second paragraph, as being indefinite for failing to particularly point out and distinctly claim the subject matter which the inventor or a joint inventor (or for applications subject to pre- AIA 35 U.S.C. 112, the applicant), regards as the invention.\n",
    "\n",
    "        Claim 4 contains the trademark/trade name Carbopol. Where a trademark or trade name is used in a claim as a limitation to identify or describe a particular material or product, the claim does not comply with the requirements of 35 U.S.C. 112(b) or 35 U.S.C. 112 (pre-AIA), second paragraph. See Ex parte Simpson, 218 USPQ 1020 (Bd. App. 1982). The claim scope is uncertain since the trademark or trade name cannot be used properly to identify any particular material or product. A trademark or trade name is used to identify a source of goods, and not the goods themselves. Thus, a trademark or trade name does not identify or describe the goods associated with the trademark or trade name. In the present case, the trademark/trade name is used to\n",
    "        identify/describe specific polyacrylic polymers and, accordingly, the identification/description is indefinite.\n",
    "        Claim Rejections - 35 USC § 102\n",
    "        4. The following is a quotation of the appropriate paragraphs of 35 U.S.C. 102 that\n",
    "        form the basis for the rejections under this section made in this Office action:\n",
    "        A person shall be entitled to a patent unless -\n",
    "        (a)(1) the claimed invention was patented, described in a printed publication, or in public use, on sale, or otherwise available to the public before the effective filing date of the claimed invention.\n",
    "        (a)(2) the claimed invention was described in a patent issued under section 151, or in an application for patent published or deemed published under section 122(b), in which the patent or application, as the case may be, names another inventor and was effectively filed before the effective filing date of the claimed invention.\n",
    "        Claims 1-11 are rejected under 35 U.S.C. 102(a)(1) as being anticipated by Nangia et al. (US 9744137 B2).\n",
    "        Claims 1-3 and 6-8, Nangia et al. teach:\n",
    "        Pharmaceutical compositions (Abs), refer to pellets, particles, microparticles, or minitablets or any combination thereof (Col. 16, lines 37-40).\n",
    "\n",
    "        Certain delayed release (DR) pellets may be coated with EUDRAGIT® L30D-55, which dissolves at about pH 5.5-6.0, i.e., in the upper intestines. (Col. 23, line 15-17). The composition contains a core and an enteric coating surrounding the core. (Col. 1, line 15-17).\n",
    "        The cores or starting seeds can be, sugar spheres or spheres made from microcrystalline cellulose or silicon dioxide or various salt crystals such as sodium citrate. (Col 20, lines 63-67), which are hydrophilic components. The immediate release composition may contain one or more binders to give the pellets cohesiveness. (col. 20, lines 17-18).\n",
    "        In certain embodiments, at least a portion of the pellets are individually coated with both the bioadhesive polymer and the enteric coating. (Col 14, line 35-37).\n",
    "        In some embodiments, an unbanded capsule is sealed with a sufficient amount of sealing composition. Such sealing compositions comprise a film-forming material, a plasticizer\n",
    "        and a filler. The sealed capsule may be further coated with at least one other coating as described herein (col 40, line 25-29).\n",
    "        In another aspect, a pharmaceutical composition comprises suitable pharmaceutically acceptable polymeric carriers include hydroxypropyl methyl cellulose (HPMC), sodium carboxymethyl cellulose (Na-CMC), (col 25, lines 58-61), polyvinylpyrrolidone (PVP), polyethylene glycol (PEG), (col. 26, lines 1-2). Preferred polymeric carriers are one or more of polyvinylpyrrolidone (PVP), block co-polymers of ethylene oxide and propylene oxide (PEO), and polyethylene glycol (PEG), wherein a more preferred polymeric carrier is polyvinylpyrrolidone (PVP) having an average molecular weight of about 2,500 to about 3,000,000. A most preferred polymeric carrier is polyvinylpyrrolidone (PVP) having an average molecular weight of from about 10,000 to about 450,000. The more preferred polymeric carrier is hydroxypropyl methyl cellulose (HPMC) having an average molecular weight of about 2,500 to about 100,000. A most preferred polymeric carrier is hydroxypropyl methyl cellulose having an average molecular weight of from about 5,000 to about 50,000. (Col. 26, lines 5-19). They are examples of channel forming agents and they include low molecular weight from\n",
    "        as low as 2500 Dalton. Dalton unit (col. 54, line 67).\n",
    "        The modification to the polymer or monomer can performed in the coupling reaction with a crosslinker, carbodiimide (col. 58, line 26-42). The dosage form matrix can be made by procedures known to the polymer art with a cross-linking agent. The step is repeated for each successive layer. Representative polymers suitable for manufacturing the dosage form include olefin and vinyl polymers, condensation polymers, carbohydrate polymers, and silicon polymers as represented by poly(ethylene), poly (propylene), poly(vinylacetate), poly(methyl acrylate), poly(isobutyl methacrylate), poly(alginate), poly(amide), and poly(silicone). (col 39, lines 51-67).\n",
    "        With regard to claim 4, in certain embodiments, the bioadhesive layer comprises one or more polymeric materials selected from polyvinyl alcohols, Carbopols, (col. 7, lines 13, 15, 20, 23).\n",
    "\n",
    "        With regard to claim 5, \"Bioadhesion\" is defined as the ability of a material to adhere to a biological tissue for an extended period of time. Polycarbophils and acrylic acid polymers usually have the best adhesive properties. (col 47, lines 1-2 & 10-11).\n",
    "        With regard to claim 9, the term \"particle\" refers to particles that comprise topiramate or a pharmaceutically acceptable salt thereof in any suitable size and shape. Typically, particles have a diameter in the range of about 1 micron to about 300 microns. Examples of different particle shapes include rods, granules, planar structures and other regular or irregular shapes. (Col 16, lines 23-27), so products comprise microparticles of different diameters.\n",
    "        With regard to claim 10, in other embodiments, the topiramate is micronized and the pellet size is less than 5 microns. Particles are formulated to these sizes in\n",
    "        order to enable high drug loading when needed. (col. 44, lines 62-65), so microparticles are of substantially similar diameter.\n",
    "        With regard to claim 11, Active pellets were prepared by extrusion\n",
    "        spheronization.\n",
    "        Topiramate was blended with Emcocel 90M, Hydroxypropylcellulose EF Pharm, dibasic\n",
    "        sodium phosphate, sodium lauryl sulfate, and Povidone K-30 and wet granulated by addition of purified water while mixing in a Hobart mixer. The granulation was then extruded into rods using a Caleva (col. 71, line 62-67).\n",
    "        Conclusion\n",
    "        5. No claim is allowed at this time.\n",
    "        6. Any inquiry concerning this communication or earlier communications from the examiner should be directed to NGOC-ANH THI NGUYEN whose telephone number is (571)270-0867. The examiner can normally be reached Monday - Friday 8:00 am.\n",
    "\n",
    "        Examiner interviews are available via telephone, in-person, and video\n",
    "        conferencing using a USPTO supplied web-based collaboration tool. To schedule an interview, applicant is encouraged to use the USPTO Automated Interview Request (AIR) at http://www.uspto.gov/interviewpractice.\n",
    "        If attempts to reach the examiner by telephone are unsuccessful, the examiner's supervisor, Robert A Wax can be reached on 571-272-0623. The fax phone number for the organization where this application or proceeding is assigned is 571-273-8300.\n",
    "        Information regarding the status of published or unpublished applications may be obtained from Patent Center. Unpublished application information in Patent Center is available to registered users. To file and manage patent submissions in Patent Center, visit: https:// patentcenter.uspto.gov. Visit https://www.uspto.gov/patents/apply/patent- center for more information about Patent Center and https://www.uspto.gov/patents/docx for information about filing in DOCX format. For additional questions, contact the Electronic Business Center (EBC) at 866-217-9197 (toll-free). If you would like assistance from a USPTO Customer Service\n",
    "        Representative, call 800-786-9199 (IN USA OR CANADA) or 571-272-1000.\n",
    "\n",
    "    - Response to Office Action 1:\n",
    "            AMENDMENT\n",
    "\n",
    "        Commissioner for Patents\n",
    "        P.O. Box 1450\n",
    "        Alexandria, VA 22313-1450\n",
    "\n",
    "        Sir:\n",
    "        This communication is in reply to the Office Action dated September 25, 2024, and issued by the United States Patent and Trademark Office in connection with the above-identified Patent Application.\n",
    "\n",
    "        AMENDMENTS TO THE SPECIFICATION\n",
    "\n",
    "        Kindly amend the specification as follows:\n",
    "        Kindly replace the paragraphs at page 3, lines 1-12, with the following amended paragraphs:\n",
    "        According to some demonstrative embodiments, the bioadhesive material may be selected from selected from one or more of the following groups of materials:\n",
    "        Polyanionic polymers selected from the group including polycarbophil USP, cross-linked polyacrylic acid polymers such as (carbomer homopolymer) (commercially available under various trade names including Carbopol® 974P NF (Carbomer Homopolymer Type B), Carbopol® 971P NF (Carbomer Homopolymer Type A), Carbopol® 934P NF (Carbomer 934P), Carbopol® 71 G, Carbopol® 980 NF (Carbomer Homopolymer Type C), Carbopol® 981 NF, Carbopol® 5964 EP, Carbopol® 940 NF, Carbopol® 941 NF, Carbopol® 1342 NF, Carbopol® 934 NF, Carbopol® ETD 2020 NF, Carbopol® Ultrez 10 NF, Carbopol® TR-1 NF, Carbopol® TR-2 NF, or a combinations thereof.\n",
    "        b. Polycationic polymers selected from the group including cationic starch, cationic polyvinyl alcohol, cationic polysaccharide and/or cationic gum.\n",
    "\n",
    "        Kindly replace the paragraphs at page 6, lines 9-24, with the following amended paragraphs:\n",
    "        I. Polymers of acrylic acid crosslinked with allyl sucrose or allyl pentaerythritol (also known as Carbopol homopolymers).\n",
    "        Cross-linked polyacrylic acid polymers (carbomer homopolymers) formed by polymers of acrylic acid crosslinked with allyl sucrose or allyl pentaerythritol (commercially available under trade names including various Carbopol® homopolymers).\n",
    "        II. Polymers of acrylic acid and C10-C30 alkyl acrylate crosslinked with allyl pentaerythritol (also known as Carbopol copolymers).\n",
    "        (commercially available under trade names including various Carbopol® copolymers).\n",
    "        III. Carbomer homopolymer or copolymer that contains a block copolymer of polyethylene glycol and a long chain alkyl acid ester (also known as Carbopol®) interpolymers).\n",
    "        According to some demonstrative embodiments, the bioadhesive may be selected from one or more of the following groups of materials:\n",
    "        Polyanionic polymers selected from the group including Polyanionic polymers selected from the group including polycarbophil AA-1 USP, cross-linked polyacrylic acid polymers such as Carbopol 974P NF (Carbomer Homopolymer Type B), Carbopol 971P NF (Carbomer Homopolymer Type A), Carbopol 934P NF (Carbomer 934P), Carbopol 71 G, Carbopol 980 NF (Carbomer Homopolymer Type C), Carbopol 981 NF, Carbopol 5964 EP, Carbopol 940 NF, Carbopol 941 NF, Carbopol 1342 NF, Carbopol 934 NF, Carbopol ETD 2020 NF, Carbopol Ultrez 10 NF, Carbopol TR-1 NF, Carbopol TR-2 NF, or a combinations thereof\n",
    "        polycarbophil AA-1 USP, cross-linked polyacrylic acid polymers (carbomer homopolymer) (commercially available under various trade names such as Carbopol® 974P NF (Carbomer Homopolymer Type B), Carbopol® 971P NF (Carbomer Homopolymer Type A), Carbopol® 934P NF (Carbomer 934P), Carbopol® 71 G, Carbopol® 980 NF (Carbomer Homopolymer Type C), Carbopol® 981 NF, Carbopol® 5964 EP, Carbopol® 940 NF, Carbopol® 941 NF, Carbopol® 1342 NF, Carbopol® 934 NF, Carbopol® ETD 2020 NF, Carbopol® Ultrez 10 NF, Carbopol® TR-1 NF, Carbopol® TR-2 NF), or a combination thereof.\n",
    "\n",
    "        AMENDMENTS TO THE CLAIMS\n",
    "        Kindly amend the claims as follows:\n",
    "        1. (Currently Amended) A microparticle for the administration of a pharmaceutical composition at the upper gastrointestinal tract comprising:\n",
    "        a core comprising\n",
    "        at least one pharmaceutical composition[[;]] and\n",
    "        at least one excipient; and\n",
    "        a first coating layer comprising\n",
    "        a bioadhesive material[[;]] ,\n",
    "        optionally, a channel forming agent[[;]] ,\n",
    "        a film forming polymer[[;]] , and\n",
    "        a cross-linker,\n",
    "        wherein said cross-linker interacts with said film forming polymer upon exposure to an aqueous environment.\n",
    "        2. (Original) The microparticle of claim 1, wherein said core further comprises a hydrophilic component and a binder.\n",
    "        3. (Original) The microparticle of claim 1, wherein said first layer further comprises channel forming agent.\n",
    "        4. (Currently Amended) The microparticle of claim 1, wherein said bioadhesive material is selected from selected from one or more of the following groups of materials:\n",
    "        [[c]] Polyanionic polymers selected from the group including polycarbophil USP, Carbopol 974P NF (Carbomer Homopolymer Type B), Carbopol 971P NF (Carbomer Homopolymer Type A), Carbopol 934P NF (Carbomer 934P), Carbopol 71 G, Carbopol 980 NF (Carbomer Homopolymer Type C), Carbopol 981 NF, Carbopol 5964 EP, Carbopol 940 NF, Carbopol 941 NF, Carbopol 1342 NF, Carbopol 934 NF, Carbopol ETD 2020 NF, Carbopol Ultrez 10 NF, Carbopol TR-1 NF, Carbopol TR-2 NF, cross-linked polyacrylic acid polymers (carbomer homopolymer), or a combinations thereof;\n",
    "        [[d]] Polycationic polymers selected from the group including cationic starch, cationic polyvinyl alcohol, cationic polysaccharide, and/or cationic gum.\n",
    "        5. (Original) The microparticle of claim 4, wherein said bioadhesive material comprises polycarbophil USP.\n",
    "        6. (Original) The microparticle of claim 1, wherein said cross linker is a composition which allows for the in-situ cross linking of the film forming polymer and is selected from the group including Caffeic acid, tannic acid, chicoric acid, carbodiimide, genipin, Gallic acid, boric acid and sodium borate (borax).\n",
    "        7. (Original) The microparticle of claim 1, wherein said channel forming agent comprises a polymer selected from the group including low molecular weight Polyethylene glycol (PEG), low molecular weight PolyEthylene oxide (PEO), low molecular weight Polyvinylpyrrolidone (PVP), low molecular weight Polyvinyl alcohol (PVA), low molecular weight Sodium Carboxymethyl cellulose (Na-CMC), low molecular weight Hydroxyethyl cellulose (HEC).\n",
    "        8. (Original) The microparticle of claim 1, wherein said channel forming agent is a low molecular weight PVP below 30 Kilo Dalton.\n",
    "        9. (Original) A product comprising the microparticle of claim 1, wherein said product comprises microparticles of different diameters.\n",
    "        10. (Original) A product comprising the microparticle of claim 1, wherein said product comprises microparticles of substantially similar diameter.\n",
    "        11. (Original) A process for the preparation of the microparticle of claim 1, wherein said core is prepared by granulation or extrusion.\n",
    "\n",
    "\n",
    "        REMARKS\n",
    "        The present response is intended to be fully responsive to all points of rejection raised by the Examiner in the instant Office Action, and is believed to place the application in condition for allowance. Favorable reconsideration and allowance of the application is respectfully requested.\n",
    "        Amendments to the Specification\n",
    "        The specification is objected to over the use of “Carbopol 974P NF, etc.” as a trade name. Applicant has now amended the Specification to specify generic chemical names (e.g., “carbomer homopolymer”), while indicating that “Carbopol®” is a registered mark.\n",
    "        Claim Rejections under 35 U.S.C. §112\n",
    "        Claim 4 is rejected under 35 U.S.C. §112 as being indefinite and as amended herewith to recite “cross-linked polyacrylic acid polymer (carbomer homopolymer)” in place of “Carbopol® 974P NF” to refer to the substance rather than its brand/trade name. Reconsideration of claim 4 under 35 U.S.C. §112 is respectfully requested.\n",
    "        Claim Rejections under 35 U.S.C. §102\n",
    "        Claims 1-11 are rejected under 35 U.S.C. §102 as being anticipated by U.S. Patent No. 9,744,137 (hereinafter “Nangia”). Applicant respectfully traverses.\n",
    "        Anticipation requires that a single prior art reference disclose each and every element of the claimed invention, explicitly or inherently. MPEP § 2131 states:\n",
    "        “A claim is anticipated only if each and every element as set forth in the claim is found, either expressly or inherently described, in a single prior art reference.” [Emphasis Added]\n",
    "        See also Net MoneyIN v. Verisign, 545 F.3d 1359 (Fed. Cir. 2008).\n",
    "        Applicant respectfully traverses the anticipation rejection for at least the following reasons:\n",
    "        The Examiner's combination of disparate passages that do not collectively teach a “single first coating layer” containing all the recited elements\n",
    "\n",
    "        Claim 1 specifically recites a microparticle whose “first coating layer” contains a bioadhesive polymer, a film-forming polymer, a cross-linker, and optionally a channel-forming agent. Nothing in Nangia teaches or inherently discloses a single layer combining all these components such that the cross-linker remains substantially unreacted until contact with fluids in the upper GI.\n",
    "        MPEP § 2131.01 further notes:\n",
    "        “…the burden is on the examiner to show that all elements of the claimed invention are disclosed within the four corners of a single prior art document…”\n",
    "        And see for example, “In re Robertson, 169 F.3d 743, 745 (Fed. Cir. 1999).\n",
    "        While Nangia references “bioadhesive polymers” (Carbopols) and also references crosslinkers (e.g., carbodiimides for polymer modification), it does not teach the arrangement or the in situ crosslinking mechanism recited.\n",
    "\n",
    "        The in situ crosslinking triggered in an aqueous environment\n",
    "        A critical element of Claim 1 is that the cross-linker in the first coating layer reacts with the film-forming polymer “upon exposure to an aqueous environment,” thereby forming a crosslinked matrix. Nangia's discussion of crosslinkers (col. 58, lines 26-42) appears tied to manufacturing or pre-processing steps. There is no disclosure that the crosslinker is held within a single layer to be triggered in situ in the GI.\n",
    "        Nangia's text regarding “carbodiimide coupling” does not inherently or explicitly teach the in situ crosslinking at ingestion.\n",
    "\n",
    "        3. Upper GI-targeted bioadhesion—features not shown or suggested in Nangia.\n",
    "        Claim 1 also states the microparticle is for “administration of a pharmaceutical composition at the upper gastrointestinal tract.” Nangia repeatedly emphasizes a design that releases or absorbs topiramate in the “lower GI tract” (small intestine, colon) or uses pH ~5.5-7.0 coatings. The concept of an early, localized bioadhesive event in the stomach or proximal duodenum is absent from Nangia.\n",
    "        In fact, Nangia is actually teaching away from the present invention.\n",
    "        Nangia, in Co. 12 lines 6-10 states:\n",
    "        “Applicants have observed that topiramate is unstable under acidic conditions and degrades. Due to its acid-sensitive nature, topiramate may benefit from protection from the relative acidic environment of the upper GI tract, which would otherwise lead to degradation of the drug.”\n",
    "        And in col. 8, lines 46-48, Nangia states:\n",
    "        “...coating a topiramate formulation with an enteric coating that reduces or substantially eliminates the release and/or absorption of topiramate in the upper gastrointestinal (GI) tract, such as in the stomach...”\n",
    "        This explicitly describes a strategy to bypass the stomach and proximal duodenum so that the drug does not substantially release or absorb there. That is the opposite of an in situ crosslinking or bioadhesive event intentionally designed to act in the upper GI region. The applicant's claims teach a microparticle arrangement optimized for administration at or near the upper GI—i.e. where the first coating layer activates (cross-links) upon contact with fluids in the stomach or upper duodenum.\n",
    "        In summary, because Nangia does not teach or suggest every element of independent claim 1 or its dependent claims 2-11, Nangia fails to anticipate under 35 U.S.C. §102. Applicant therefore respectfully requests withdrawal of the rejection of claims 1-11 under under 35 U.S.C. §102.\n",
    "        Conclusion\n",
    "        The present response is intended to be fully responsive to all points of objection raised by the Examiner and is believed to place the claims in condition for allowance. Favorable reconsideration and allowance of the Application is respectfully requested. Should any questions remain unresolved, the Examiner is requested to telephone Applicants' representative at the telephone number or e-mail address below.\n",
    "\n",
    "    - Office Action 2:\n",
    "            Notice of Pre-AIA or AIA Status\n",
    "        1. The present application, filed on or after March 16, 2013, is being examined under the first inventor to file provisions of the AIA.\n",
    "        2. The following is a quotation of 35 U.S.C. 103 which forms the basis for all obviousness rejections set forth in this Office action:\n",
    "        A patent for a claimed invention may not be obtained, notwithstanding that the claimed invention is not identically disclosed as set forth in section 102, if the differences between the claimed invention and the prior art are such that the claimed invention as a whole would have been obvious before the effective filing date of the claimed invention to a person having ordinary skill in the art to which the claimed invention pertains. Patentability shall not be negated by the manner in which the invention was made.\n",
    "        3. Claims 1-13 are rejected under 35 U.S.C. 103 as being unpatentable over GB 2522491 A\n",
    "        in view of GB 2560026 A. GB 2522491 A discloses a method for forming pellets of a polyhalite by introducing a mixture of a polyhalite and binder to a pan pelletizer. (See pages 2 and 3.) GB 2522491 A teaches on pages 4 and 5 that the polyhalite is crushed and processed to form a polyhalite powder. GB 2522491 A further discloses in the paragraph bridging pages 5 and 6 that the binder may be lignosulphonate or sodium silicate, and in the second full paragraph on page 9 that the material leaving the pan pelletizer is screened into an undersized product, and oversize product. The pelletizing step of GB 2522491 A would constitute a compaction step. The difference between the process disclosed by GB 2522491 A, and that recited in claims 1-8, is that applicant's claims require that the polyhalite is crushed after the compacting step, whereas GB 2522491 A discloses pelletizing after the crushing step. GB 2560026 A discloses a method for forming pellets of polyhalite by treating a polyhalite/starch mixture, and teaches in the last sentence in the paragraph bridging pages 7 and 8 that polyhalite is able to fracture in a number of crystallographic directions when subjected to high compressive forces which produces a fine output efficiency during the HPGR process. It would be obvious from such teaching of GB 2560026 A to modify the process of GB 2522491 A by crushing the polyhalite after the compaction step, since one would appreciate from the disclosure in the last sentence bridging pages 7 and 8 of GB 2560026 A that a compaction of the polyhalite in the process of GB 2522491 A would produce such high compressive forces in the pellets. Regarding claim 3, GB 2522491 A discloses in the last paragraph on page 3 that the evaporite mineral powder may be combined with a liquid. Regarding claim 5, GB\n",
    "        2522491 A discloses in the paragraph bridging pages 6 and 7 that the binder may include sodium silicate and cement. Regarding claim 8, GB 2560026 A discloses in the first full paragraph on page 10 that the polyhalite/starch mixture is heated to stabilize the mixture. Regarding claim 8, one of ordinary skill in the art would appreciate that mixtures of the binders disclosed in the paragraph bridging pages 5 and 6 could be used. Regarding claims 9-13, GB 2522491 A discloses in the Abstract that the mean diameter of the pellets is 1-8 mm, and GB 2560026 A teaches in the second full paragraph on page 12 that the polyhalite chips have an average diameter of less than about 20 mm and in the fourth paragraph on page 4 that the density ranges from 2.6 to 3.0 g/cm3. it would be expected that the granules would have a single strength of between 0.9 kgForce/granule to 3.3 kgForce/granule, since GB 2560026 A discloses a hardness of around 2.5 to 3.5 in the paragraph bridging pages 4 and 5. Regarding claim 12, it would be within the level of skill of one of ordinary skill in the art to determine a suitable concentration for the lignosulfonate binder.\n",
    "        4. The following is a quotation of 35 U.S.C. 112(b):\n",
    "        (b) CONCLUSION.-The specification shall conclude with one or more claims particularly pointing out and distinctly claiming the subject matter which the inventor or a joint inventor regards as the invention.\n",
    "        The following is a quotation of 35 U.S.C. 112 (pre-AIA), second paragraph:\n",
    "        The specification shall conclude with one or more claims particularly pointing out and distinctly claiming the subject matter which the applicant regards as his invention.\n",
    "        5. Claims 1-13 are rejected under 35 U.S.C. 112(b) or 35 U.S.C. 112 (pre-AIA), second paragraph, as being indefinite for failing to particularly point out and distinctly claim the subject matter which the inventor or a joint inventor (or for applications subject to pre-AIA 35 U.S.C. 112, the applicant), regards as the invention. In claim 1, the recitation of \"desired\" size fine particles is indefinite, since it could not be ascertained whether a given particle size would be \"desired\". In claims 4 and 10, the recitation of \"selected from the group including...\" is improper Markush or alternative terminology. Also in claims 4 and 10, the recitation of \"and the like\" renders the scope of the claims vague and indefinite, since the metes and bounds of binders which might be considered \"to be like\" those specifically recited would not be ascertainable.\n",
    "        6. The nonstatutory double patenting rejection is based on a judicially created doctrine grounded in public policy (a policy reflected in the statute) so as to prevent the unjustified or improper timewise extension of the \"right to exclude” granted by a patent and to prevent possible harassment by multiple assignees. A nonstatutory double patenting rejection is appropriate where the conflicting claims are not identical, but at least one examined application claim is not patentably distinct from the reference claim(s) because the examined application claim is either\n",
    "\n",
    "        anticipated by, or would have been obvious over, the reference claim(s). See, e.g., In re Berg, 140 F.3d 1428, 46 USPQ2d 1226 (Fed. Cir. 1998); In re Goodman, 11 F.3d 1046, 29 USPQ2d 2010 (Fed. Cir. 1993); In re Longi, 759 F.2d 887, 225 USPQ 645 (Fed. Cir. 1985); In re Van Ornum, 686 F.2d 937, 214 USPQ 761 (CCPA 1982); In re Vogel, 422 F.2d 438, 164 USPQ 619 (CCPA 1970); In re Thorington, 418 F.2d 528, 163 USPQ 644 (CCPA 1969).\n",
    "        A timely filed terminal disclaimer in compliance with 37 CFR 1.321(c) or 1.321(d) may be used to overcome an actual or provisional rejection based on nonstatutory double patenting provided the reference application or patent either is shown to be commonly owned with the examined application, or claims an invention made as a result of activities undertaken within the scope of a joint research agreement. See MPEP § 717.02 for applications subject to examination under the first inventor to file provisions of the AIA as explained in MPEP § 2159. See MPEP § 2146 et seq. for applications not subject to examination under the first inventor to file provisions of the AIA. A terminal disclaimer must be signed in compliance with 37 CFR 1.321(b).\n",
    "        The filing of a terminal disclaimer by itself is not a complete reply to a nonstatutory double patenting (NSDP) rejection. A complete reply requires that the terminal disclaimer be accompanied by a reply requesting reconsideration of the prior Office action. Even where the NSDP rejection is provisional the reply must be complete. See MPEP § 804, subsection I.B.1. For a reply to a non-final Office action, see 37 CFR 1.111(a). For a reply to final Office action, see 37 CFR 1.113(c). A request for reconsideration while not provided for in 37 CFR 1.113(c) may be filed after final for consideration. See MPEP §§ 706.07(e) and 714.13.\n",
    "        The USPTO Internet website contains terminal disclaimer forms which may be used. Please visit www.uspto.gov/patent/patents-forms. The actual filing date of the application in which the form is filed determines what form (e.g., PTO/SB/25, PTO/SB/26, PTO/AIA/25, or PTO/AIA/26) should be used. A web-based eTerminal Disclaimer may be filled out completely online using web-screens. An eTerminal Disclaimer that meets all requirements is auto-processed and approved immediately upon submission. For more information about eTerminal\n",
    "        Disclaimers, refer to www.uspto.gov/patents/apply/applying-online/eterminal-disclaimer.\n",
    "        7. Claims 1-13 are rejected on the ground of nonstatutory double patenting as being unpatentable over claims 1-6 of U.S. Patent No. 10,934,225. Although the claims at issue are not identical, they are not patentably distinct from each other because claim 5 of US 10,934,225 recites that the binder may be inorganic such as lignosulfonate.\n",
    "        8. CA 2963014 A1 and CA 2963011 A1 are made of record for disclosing the production of sulfate of potash granules using lignosulfonates as a binder.\n",
    "\n",
    "        9. GB 2530757 A is made of record for disclosing the production of pelletized polyhalite using starch as a binder.\n",
    "        10. Any inquiry concerning this communication or earlier communications from the examiner should be directed to Wayne Langel whose telephone number is 571-272-1353. The\n",
    "        examiner can normally be reached Monday through Friday from 8:15 am to 4:15 pm..\n",
    "        If attempts to reach the examiner by telephone are unsuccessful, the examiner's supervisor, Anthony Zimmer, can be reached on 571-270-3591. The fax phone number for the organization where this application or proceeding is assigned is 571-273-8300.\n",
    "        Information regarding the status of published or unpublished applications may be obtained from Patent Center. Unpublished application information in Patent Center is available to registered users. To file and manage patent submissions in Patent Center, visit: https:// patentcenter.uspto.gov. Visit https://www.uspto.gov/patents/apply/patent-centerfor\n",
    "        more information about Patent Center and https://www.uspto.gov/patents/docx for information about filing in DOCX format. For additional questions, contact the Electronic Business Center (EBC) at 866-217-9197 (toll-free). If you would like assistance from a USPTO Customer Service Representative, call 800-786-9199 (IN USA or Canada) or 571-272-1000.\n",
    "\n",
    "    - Response to Office Action 2:\n",
    "            AMENDMENT\n",
    "\n",
    "        Commissioner for Patents\n",
    "        P.O. Box 1450\n",
    "        Alexandria, VA 22313-1450\n",
    "\n",
    "        Sir:\n",
    "            This communication is responsive to the Office Action mailed on July 17, 2024. Kindly amend the above-referenced patent application as indicated hereinbelow.\n",
    "\n",
    "            AMENDMENTS TO THE CLAIMS\n",
    "\n",
    "        Kindly amend the claims as follows:\n",
    "        1.\t(Currently Amended) A process for the compaction of Polyhalite, comprising:\n",
    "        mixing a feed of polyhalite with an inorganic binder suspension or solution in a mixer to yield a mixture;\n",
    "        compacting said mixture in a compactor to yield masses;\n",
    "        crushing said masses in a crusher to yield particles; and\n",
    "        screening said particles in a screener to yield particles in three different sizes:\n",
    "        oversized fine particles which undergo a second crushing process and are retuned to said screener for screening,\n",
    "        undersized fine particles which are transferred to said mixer for further mixing and compacting, and\n",
    "        desired size fine particles between 1-6 mm, which are transferred to a polish screener for glazing and oiling,\n",
    "        wherein said process is a wet process and said granule is comprised only of said Polyhalite, said binder and water.\n",
    "\n",
    "        2.\t (Currently Amended) The process of claim 1, wherein said process is a wet process including the addition of a binder further comprising drying at 150 degrees Celsius.\n",
    "\n",
    "        3.\t(Original) The process of claim 3, wherein said binder is added to the mixer with said feed of polyhalite.\n",
    "\n",
    "        4.\t(Currently Amended) The process of claim 4, wherein said binder is selected from the group consisting of including, bentonite, sodium silicate, lignosulfonates, hydrated lime, bitumen, Portland cement, clay, acids (nitric, hydrochloric, phosphoric, sulphuric), water, water glass, cements, Fly Ash, Potassium and Sodium Silicate, MgO, CaO, Geo-polymers, and the like, or a combination thereof.\n",
    "\n",
    "        5.\t(Original) The process of claim 4, wherein said binder is 2%CaO+5% Na2SiO3.\n",
    "\n",
    "        6.\t(Original) The process of claim 4, wherein said binder is Mg Lignosulfonate.\n",
    "\n",
    "        7.\t(Original) The process of claim 1 wherein said process is a dry process wherein said mixture is heated in a heater after being mixed in said mixer.\n",
    "\n",
    "        8.\t(Original) The process of claim 1, further comprising adding an organic binder to the inorganic binder to create a mixture of organic-inorganic binder.\n",
    "\n",
    "        9.\t(Original) A compacted granule of Polyhalite, comprising an inorganic binder, wherein said granule comprises a thickness of 9 to 33 mm and a specific gravity (S.G.) of between 1.9 to 2.8 g/cm3, a size of  1.4-4.75 mm and a single strength of between 0.9 kgForce/granule to 3.3 kgForce/granule.\n",
    "\n",
    "        10.\t(Currently Amended) The granule of claim 9, wherein said binder is selected from the group consisting of including, bentonite, sodium silicate, lignosulfonates, hydrated lime, bitumen, Portland cement, clay, acids (nitric, hydrochloric, phosphoric, sulphuric), water, water glass, cements, Fly Ash, Potassium and Sodium Silicate, MgO, CaO, Geo-polymers, and the like, or a combination thereof.\n",
    "\n",
    "        11.\t(Original) The granule of claim 10, wherein said binder is 2%CaO+5% Na2SiO3.\n",
    "\n",
    "        12.\t(Original) The granule of claim 10, wherein said binder is Mg Lignosulfonate, in a concentration of between 2% and 5%.\n",
    "\n",
    "        13.\t(Original) The granule of claim 10, wherein said binder further comprises an organic binder, added to the inorganic binder to create a mixture of organic-inorganic binder.\n",
    "\n",
    "        REMARKS\n",
    "        The present response is intended to be fully responsive to all points of rejection raised by the Examiner in the instant Office Action and is believed to place the application in condition for allowance. Favorable reconsideration and allowance of the application is respectfully requested.\n",
    "        Claim Amendments\n",
    "        Claims 1-13 are currently pending. Claims 1, 2, 4 and 10 have been amended. No new matter has been added.\n",
    "        Claim Rejections - 35 U.S.C. §103\n",
    "        Claims 1-13 are rejected under 35 U.S.C. §103 as being unpatentable over GB2522491 in view of GB2560026.\n",
    "        Applicant draws the Examiner's attention to the fact that the claimed invention is focused on compaction of pure Polyhalite.\n",
    "        Applicant submits that compaction of polyhalite is a unique challenge. See, for example, page 8, lines 13-16, of the specification as filed, which states (emphasis added):\n",
    "        “According to some demonstrative embodiments, the present invention allows for the effective compaction of Polyhalite which is difficult to compact under regular conditions due to the difficulty in achieving deformation of Polyhalite particles.”\n",
    "        The Examiner submits that “The pelletizing step of GB2522491 would constitute a compaction step”, however, Applicant respectfully disagrees.\n",
    "        GB2522491 discusses the method of granulation of Polyhalite, and specifically uses pelletising methods of granulation (such as using a pan pelletiser). See, for example, the second paragraph on page 2 of GB2522491.\n",
    "        Applicant submits that pelletising via granulation is a completely different process than that of compaction, and a person of ordinary skill in the art would not consider using the teachings of a document which focuses on granulation for conceiving a compaction method.\n",
    "        GB2522491 is completely silent with regard to compaction of Polyhalite. In fact, in order to overcome the challenges of granulating Polyhalite,GB2522491 suggests crushing the polyhalite into powder. See, for example, the second paragraph on page 2 of GB2522491.\n",
    "        In strong contrast, the claimed invention teaches the compaction of pure Polyhalite without any need for modification of the mineral in terms of particle size. Thus, not only does GB2522491 fail to teach or suggest the compaction process of the claimed invention, GB2522491 actually teaches away from the claimed invention.\n",
    "        GB2560026 cannot cure the deficiencies of GB 2522491 because it is also completely silent with regard to compaction of Polyhalite. The Examiner refers to the last sentences in the paragraph bridging pages 7 and 8 as mentioning that Polyhalite is able to fracture in a number of crystallographic directions when subjected to high compressive forces. From this the Examiner concludes that it may be combined with the teachings of GB2522491 to produce high compressive forces in the pellets (page 3 of the office action).\n",
    "        Applicant respectfully disagrees and draws the Examiner's attention to the fact that GB2560026 also discusses the creation of Polyhalite powder and does not mention or even remotely suggest a compaction process, yet is focused on granulation.\n",
    "        The fact that both GB2560026 and GB 2522491 teach that Polyhalite needs to be crushed before handling (let alone when focusing on granulation) only emphasizes the uniqueness of the claimed invention in which compaction takes place without any need for crushing the Polyhalite into powder.\n",
    "        Accordingly, Applicant submits that GB2560026 and GB 2522491, whether alone or in combination, fail to teach or suggest the limitations of independent claims 1 and 9. Claims 1 and 9 are therefore deemed allowable over the cited references, as are, a fortiori, claims dependent therefrom.\n",
    "        Reconsideration of claims 1-13 under 35 U.S.C. §103 is therefore respectfully requested.\n",
    "        Claim Rejections - 35 U.S.C. §112\n",
    "        Claims 1-13 are rejected under 35 U.S.C. §112 as allegedly being indefinite.\n",
    "        Claim 1 has been amended to limit the “desired size” particles to between 1-6 mm.\n",
    "        Claims 4 and 10 have been amended to address the Examiner's comments.\n",
    "        Reconsideration of claims 1-13 under 35 U.S.C. §112 is therefore respectfully requested.\n",
    "        Nonstatutory Double Patenting Rejections\n",
    "        Claims 1-13 are rejected on the ground of nonstatutory double patenting as being unpatentable over claims 1-6 of U.S. Patent No. 10,934,225, for which a terminal disclaimer has been submitted.\n",
    "\n",
    "        Conclusion\n",
    "            Applicant respectfully submits that consideration of the above remarks renders the present application in condition for allowance, which action Applicant respectfully solicits.\n",
    "\n",
    "    # Output Format:\n",
    "    Use the sendPatentRequest tool to send the output to Make.com. \\\n",
    "    Place each section in the corresponding field in the schema in string format. \\\n",
    "    Additionally, put the same output text in the chat output.\n",
    "    Make sure that you included all of these sections:\n",
    "    - Title\n",
    "    - Amendment\n",
    "    - Amendments to the specification\n",
    "    - Amendments to the claims\n",
    "    - Remarks\n",
    "    - Conclusion\n",
    "\n",
    "    After you finish writing a section leave a space of 2 lines before starting to write the next section.\n",
    "\n",
    "    # Important Rules\n",
    "    - Always check the files for relevant information before providing an answer.\n",
    "    - The response should be based on the template that is in the files: 4042US - RESOA.docx,  4052US RESOA.docx and 4838US RESOA.docx. It must comply with the rules and laws of patent requests.\n",
    "    - If there is insufficient information ask the user clarifying questions in order to obtain all the data you need in order to craft a response to the Office Action. Always ask only one question at a time.\n",
    "    - Make each section of the response as elaborate as possible.\n",
    "    - Send each section to make.com using sendPatentRequest tool in corresponding field of the schema, as detailed in the action steps.\n",
    "    - Make sure you include all the relevant sections.\n",
    "    - Wait to be prompted to write each section individually. Do NOT write all the response to the Office Action in a single output.\n",
    "\n",
    "\n",
    "{context}\n",
    "\n",
    "Question: {question}\n",
    "Helpful Answer:\"\"\""
   ]
  },
  {
   "cell_type": "code",
   "execution_count": null,
   "id": "b4f9ff66",
   "metadata": {},
   "outputs": [],
   "source": [
    "prompt_template = PromptTemplate.from_template(prompt_template)"
   ]
  },
  {
   "cell_type": "code",
   "execution_count": null,
   "id": "d3017b29",
   "metadata": {},
   "outputs": [],
   "source": [
    "question = \"\"\"Respond to this clain rejection:\n",
    "The following is a quotation of 35 U.S.C. 112(b):\n",
    "(b) CONCLUSION.-The specification shall conclude with one or more claims particularly pointing out and distinctly claiming the subject matter which the inventor or a joint inventor regards as the invention.\n",
    "The following is a quotation of 35 U.S.C. 112 (pre-AIA), second paragraph: The specification shall conclude with one or more claims particularly pointing out and distinctly claiming the subject matter which the applicant regards as his invention.\n",
    "Claim 4 is rejected under 35 U.S.C. 112(b) or 35 U.S.C. 112 (pre-AIA), second paragraph, as being indefinite for failing to particularly point out and distinctly claim the subject matter which the inventor or a joint inventor (or for applications subject to pre- AIA 35 U.S.C. 112, the applicant), regards as the invention.\n",
    "Claim 4 contains the trademark/trade name Carbopol. Where a trademark or trade name is used in a claim as a limitation to identify or describe a particular material or product, the claim does not comply with the requirements of 35 U.S.C. 112(b) or 35 U.S.C. 112 (pre-AIA), second paragraph. See Ex parte Simpson, 218 USPQ 1020 (Bd. App. 1982). The claim scope is uncertain since the trademark or trade name cannot be used properly to identify any particular material or product. A trademark or trade name is used to identify a source of goods, and not the goods themselves. Thus, a trademark or trade name does not identify or describe the goods associated with the trademark or trade name. In the present case, the trademark/trade name is used to\n",
    "identify/describe specific polyacrylic polymers and, accordingly, the identification/description is indefinite.\n",
    "\"\"\""
   ]
  },
  {
   "cell_type": "code",
   "execution_count": null,
   "id": "fda6278f",
   "metadata": {},
   "outputs": [],
   "source": [
    "inputs = RunnableMap({\n",
    "    \"context\": lambda x: retriever.invoke(x[\"question\"]),\n",
    "    \"question\": lambda x: x[\"question\"],\n",
    "    \"date\": lambda x: x[\"date\"]\n",
    "})"
   ]
  },
  {
   "cell_type": "code",
   "execution_count": null,
   "id": "dc769c85",
   "metadata": {},
   "outputs": [],
   "source": [
    "inputs.invoke({\"question\": question, \"date\": \"19-02-2025\"})"
   ]
  },
  {
   "cell_type": "code",
   "execution_count": null,
   "id": "26264f6a",
   "metadata": {},
   "outputs": [],
   "source": [
    "output_parser = StrOutputParser()"
   ]
  },
  {
   "cell_type": "code",
   "execution_count": null,
   "id": "1e08eecc",
   "metadata": {},
   "outputs": [],
   "source": [
    "chain = inputs | prompt_template | model | output_parser"
   ]
  },
  {
   "cell_type": "code",
   "execution_count": null,
   "id": "3e1a192f",
   "metadata": {},
   "outputs": [],
   "source": [
    "async for t in chain.astream({\"question\": question, \"date\": \"19-02-2025\"}):\n",
    "    print(t, end='')\n",
    "    time.sleep(0.1)"
   ]
  },
  {
   "cell_type": "code",
   "execution_count": null,
   "id": "b46ff73b",
   "metadata": {},
   "outputs": [],
   "source": []
  },
  {
   "cell_type": "markdown",
   "id": "9ceeb938",
   "metadata": {},
   "source": [
    "## Extracting information from the documents"
   ]
  },
  {
   "cell_type": "code",
   "execution_count": null,
   "id": "c8e27107",
   "metadata": {},
   "outputs": [],
   "source": [
    "OA_loader = PyPDFLoader(\"/Users/Mark/code/MarkBerkovics/projects/Lawyer_bot/docs/4838US/4838US - OA - fixed.pdf\")\n",
    "OA_doc = OA_loader.load()\n",
    "OA_doc"
   ]
  },
  {
   "cell_type": "code",
   "execution_count": null,
   "id": "95e29beb",
   "metadata": {},
   "outputs": [],
   "source": [
    "OA_doc_txt = \"\\n\".join([d.page_content for d in OA_doc])\n",
    "OA_doc_txt"
   ]
  },
  {
   "cell_type": "code",
   "execution_count": null,
   "id": "eb1ab6eb",
   "metadata": {},
   "outputs": [],
   "source": [
    "# all_dates = model.invoke(f\"what dates are in this document: {OA_doc[0].page_content}?\").content\n",
    "mail_date = model.invoke(f\"what is the mail date in this document: {OA_doc[0].page_content}? respond in this format: 'Month Day, Year'. As an output give only the date with no leading words.\").content\n",
    "mail_date"
   ]
  },
  {
   "cell_type": "code",
   "execution_count": null,
   "id": "f1e98188",
   "metadata": {},
   "outputs": [],
   "source": [
    "rejected_claims = model.invoke(f\"Which claims have been rejected in this document:{OA_doc_txt}\").content\n",
    "rejected_claims"
   ]
  },
  {
   "cell_type": "code",
   "execution_count": null,
   "id": "965babb1",
   "metadata": {},
   "outputs": [],
   "source": [
    "patent_loader = PyPDFLoader(\"/Users/Mark/code/MarkBerkovics/projects/Lawyer_bot/docs/4838US/4838US Application as filed.pdf\")\n",
    "patent_doc = patent_loader.load()\n",
    "patent_doc"
   ]
  },
  {
   "cell_type": "code",
   "execution_count": null,
   "id": "721f8829",
   "metadata": {},
   "outputs": [],
   "source": [
    "patent_doc_txt = \"\\n\".join([d.page_content for d in patent_doc])\n",
    "patent_doc_txt"
   ]
  },
  {
   "cell_type": "code",
   "execution_count": null,
   "id": "2a55a3c4",
   "metadata": {},
   "outputs": [],
   "source": [
    "original_claims = model.invoke(f\"You can see the claims that were rejected here: {rejected_claims}. What are the original claims that were rejected? You can find them here:{patent_doc_txt}. Make the output in list form\").content\n",
    "original_claims"
   ]
  },
  {
   "cell_type": "code",
   "execution_count": null,
   "id": "8ff1c560",
   "metadata": {},
   "outputs": [],
   "source": [
    "print(original_claims)"
   ]
  },
  {
   "cell_type": "code",
   "execution_count": null,
   "id": "1b3d96e0",
   "metadata": {},
   "outputs": [],
   "source": [
    "# loader = Docx2txtLoader(\"./example_data/fake.docx\")\n",
    "\n",
    "# data = loader.load()\n",
    "\n",
    "# data"
   ]
  },
  {
   "cell_type": "code",
   "execution_count": null,
   "id": "292bb573",
   "metadata": {},
   "outputs": [],
   "source": [
    "lean_prompt_template = \"\"\"\n",
    "    # Persona\n",
    "    You are a patent lawyer. You are an expert in responding to Office Actions in a way that complies with the \\\n",
    "    MANUAL OF PATENT EXAMINING PROCEDURE. You have a deep knowledge and understanding in the patent rules and laws, \\\n",
    "    and you know how to respond to claim rejections either by making amendments to the claims or by making \\\n",
    "    remarks to dispute the rejection.\n",
    "\n",
    "    # Task\n",
    "    You will get a Patent Application document, and an Office Action document from the examiner of the \\\n",
    "    United States Patent and Trademark Office. Your job is to respond to all claim rejections in the best way \\\n",
    "    possible. You can amend a claim, add a remark, dispute the rejection, remove claim or unite two claims. \\\n",
    "    Always use context retrived from the knowledge-base in order to give the best response. \\\n",
    "    Answer in a formal way that is acceptable by the United States Patent and Trademark Office.\n",
    "\n",
    "    # Action steps\n",
    "    - Read the Patent Application document and the Office Action document.\n",
    "    - Read the claim rejection in the Office Action document.\n",
    "    - Find the original claims that were rejected in the Patent Application document.\n",
    "    - Check data retrieved from the knowledge-base.\n",
    "    - Respond to the claim rejection in the best way possible.\n",
    "\n",
    "\n",
    "    {context}\n",
    "\n",
    "    Patent Application document: {patent_application}\n",
    "    Office Action document: {office_action}\n",
    "    Helpful Answer:\n",
    "\n",
    "    \"\"\""
   ]
  },
  {
   "cell_type": "code",
   "execution_count": null,
   "id": "e63ee1ba",
   "metadata": {},
   "outputs": [],
   "source": [
    "inputs = RunnableMap({\n",
    "    \"context\": lambda x: retriever.invoke(x[\"patent_application\"] + x[\"office_action\"]),\n",
    "    \"patent_application\": lambda x: x[\"patent_application\"],\n",
    "    \"office_action\": lambda x: x[\"office_action\"]\n",
    "})"
   ]
  },
  {
   "cell_type": "code",
   "execution_count": null,
   "id": "c70c62f5",
   "metadata": {},
   "outputs": [],
   "source": [
    "inputs.invoke({\"patent_application\": patent_doc_txt, \"office_action\": OA_doc_txt})"
   ]
  },
  {
   "cell_type": "code",
   "execution_count": null,
   "id": "13af054b",
   "metadata": {},
   "outputs": [],
   "source": [
    "lean_prompt_template = PromptTemplate.from_template(lean_prompt_template)"
   ]
  },
  {
   "cell_type": "code",
   "execution_count": null,
   "id": "4758b463",
   "metadata": {},
   "outputs": [],
   "source": [
    "chain = inputs | lean_prompt_template | model | output_parser"
   ]
  },
  {
   "cell_type": "code",
   "execution_count": null,
   "id": "790e217a",
   "metadata": {},
   "outputs": [],
   "source": [
    "response = chain.invoke({\"patent_application\": patent_doc_txt, \"office_action\": OA_doc_txt})\n"
   ]
  },
  {
   "cell_type": "code",
   "execution_count": null,
   "id": "36158f2a",
   "metadata": {},
   "outputs": [],
   "source": [
    "print(response)"
   ]
  },
  {
   "cell_type": "markdown",
   "id": "ad3791ef",
   "metadata": {},
   "source": [
    "## Building a graph"
   ]
  },
  {
   "cell_type": "markdown",
   "id": "a0850558",
   "metadata": {},
   "source": [
    "### Creating the components"
   ]
  },
  {
   "cell_type": "code",
   "execution_count": null,
   "id": "b14d93bc",
   "metadata": {},
   "outputs": [],
   "source": [
    "class State(TypedDict):\n",
    "    patent_application: str\n",
    "    office_action: str\n",
    "    knowledge_base: List[Document]\n",
    "    rejected_claims: str\n",
    "    original_claims: str\n",
    "    strategy: str\n",
    "    references: List[str]\n",
    "    other_patents: dict\n",
    "    responses: List[str]\n",
    "    draft: str"
   ]
  },
  {
   "cell_type": "code",
   "execution_count": null,
   "id": "9bf45c38",
   "metadata": {},
   "outputs": [],
   "source": [
    "def load_documents(state: State):\n",
    "\n",
    "    print(\"\\nLoading documents ...\")\n",
    "    # Load the patent application\n",
    "    PA_loader = PyPDFLoader(state['patent_application'])\n",
    "    PA_docs = PA_loader.load()\n",
    "    PA_doc_txt = \"\\n\".join([d.page_content for d in PA_docs])\n",
    "\n",
    "    # Load the office action\n",
    "    OA_loader = PyPDFLoader(state['office_action'])\n",
    "    OA_docs = OA_loader.load()\n",
    "    OA_doc_txt = \"\\n\".join([d.page_content for d in OA_docs])\n",
    "\n",
    "    print(\"✅ Documents loaded\")\n",
    "\n",
    "    return {'patent_application': PA_doc_txt, 'office_action': OA_doc_txt}\n"
   ]
  },
  {
   "cell_type": "code",
   "execution_count": null,
   "id": "565c0ec8",
   "metadata": {},
   "outputs": [],
   "source": [
    "patent_application = \"/Users/Mark/code/MarkBerkovics/projects/Lawyer_bot/docs/4838US/4838US Application as filed.pdf\"\n",
    "office_action = \"/Users/Mark/code/MarkBerkovics/projects/Lawyer_bot/docs/4838US/4838US - OA - fixed.pdf\"\n",
    "\n",
    "docs_return = load_documents({'patent_application': patent_application, 'office_action': office_action})\n",
    "docs_return"
   ]
  },
  {
   "cell_type": "code",
   "execution_count": null,
   "id": "49c45e34",
   "metadata": {},
   "outputs": [],
   "source": [
    "def extract_claims_and_references(state: State):\n",
    "\n",
    "    print(\"\\nExtracting claims and references ...\")\n",
    "\n",
    "    # Extract the rejected claims\n",
    "    rejected_claims = model.invoke(f\"Which claims have been rejected in this document:{state['office_action']}\").content\n",
    "    print(\"✅ Extracted rejected claims\")\n",
    "\n",
    "    # Extract the original claims\n",
    "    original_claims = model.invoke(f\"You can see the claims that were rejected here: {rejected_claims}. What are the original claims that were rejected? You can find them here:{state['patent_application']}. Make the output in list form\").content\n",
    "    print(\"✅ Extracted original claims\")\n",
    "\n",
    "    # Extract the references\n",
    "    patents_str = model.invoke(f\"what other patents are referenced in this document: {state['office_action']}? \\\n",
    "                                Return only a list patent numbers without added text or explanation. \\\n",
    "                                The format of the patent number should be: two letters indicating the country, \\\n",
    "                                a string of numbers, and a final letter. Example: GB2522491A. \\\n",
    "                                All the characters of a patent number should be consecutive with no spaces in between. \\\n",
    "                                Write each patent number on a separate line\").content\n",
    "\n",
    "    patents_list = patents_str.split('\\n')\n",
    "    patents_list = [p.strip() for p in patents_list]\n",
    "    print(\"✅ Extracted references\")\n",
    "\n",
    "    return {'rejected_claims': rejected_claims, 'original_claims': original_claims, 'references': patents_list}"
   ]
  },
  {
   "cell_type": "code",
   "execution_count": null,
   "id": "64f16db2",
   "metadata": {},
   "outputs": [],
   "source": [
    "claims_return = extract_claims_and_references({\n",
    "    'patent_application': docs_return['patent_application'],\n",
    "    'office_action': docs_return['office_action']\n",
    "})\n",
    "claims_return"
   ]
  },
  {
   "cell_type": "code",
   "execution_count": null,
   "id": "3cba425f",
   "metadata": {},
   "outputs": [],
   "source": [
    "print(claims_return['original_claims'])"
   ]
  },
  {
   "cell_type": "code",
   "execution_count": null,
   "id": "2a8088da",
   "metadata": {},
   "outputs": [],
   "source": [
    "def retrieve(state:State):\n",
    "\n",
    "    print(\"\\nRetrieving knowledge base ...\")\n",
    "\n",
    "    retrieved_docs = vector_store.max_marginal_relevance_search(\n",
    "        query=state[\"original_claims\"] + '\\n' + state[\"rejected_claims\"],\n",
    "        k=10,\n",
    "        fetch_k=20\n",
    "    )\n",
    "    print(\"✅ Knowledge base retrieved\")\n",
    "\n",
    "    return {'knowledge_base': retrieved_docs}\n"
   ]
  },
  {
   "cell_type": "code",
   "execution_count": null,
   "id": "710605c7",
   "metadata": {},
   "outputs": [],
   "source": [
    "retrieve_return = retrieve({\n",
    "    'original_claims': claims_return['original_claims'],\n",
    "    'rejected_claims': claims_return['rejected_claims']\n",
    "})\n",
    "retrieve_return"
   ]
  },
  {
   "cell_type": "code",
   "execution_count": null,
   "id": "204c82fd",
   "metadata": {},
   "outputs": [],
   "source": [
    "retrieve_txt = \"\\n\".join([d.page_content for d in retrieve_return['knowledge_base']])\n",
    "retrieve_txt"
   ]
  },
  {
   "cell_type": "code",
   "execution_count": null,
   "id": "30cd4724",
   "metadata": {},
   "outputs": [],
   "source": [
    "claims_return['references']"
   ]
  },
  {
   "cell_type": "code",
   "execution_count": null,
   "id": "e9a9712b",
   "metadata": {},
   "outputs": [],
   "source": [
    "url = \"https://serpapi.com/search\"\n",
    "params = {\n",
    "    'engine': 'google_patents',\n",
    "    'q': claims_return['references'][5],\n",
    "    'api_key': f\"{SERP_API_KEY}\"\n",
    "}\n",
    "\n",
    "serpapi_link = requests.get(url, params=params).json()['organic_results'][0]['serpapi_link']\n",
    "serpapi_link"
   ]
  },
  {
   "cell_type": "code",
   "execution_count": null,
   "id": "75decbbc",
   "metadata": {},
   "outputs": [],
   "source": [
    "claims_return['references'][0]"
   ]
  },
  {
   "cell_type": "code",
   "execution_count": null,
   "id": "f20aa842",
   "metadata": {},
   "outputs": [],
   "source": [
    "params = {\n",
    "    'engine': 'google_patents_details',\n",
    "    'patent_id': claims_return['references'][0],\n",
    "    'api_key': \"3ff47b6c86b22d6c0e62c11bd0d89b56ac87e539e57bdea2a64fb0e2cdf2d308\"\n",
    "}\n",
    "\n",
    "description_link = requests.get(serpapi_link, params=params).json()['description_link']\n",
    "description_link"
   ]
  },
  {
   "cell_type": "code",
   "execution_count": null,
   "id": "eb49120c",
   "metadata": {},
   "outputs": [],
   "source": [
    "url = \"https://api.tavily.com/extract\"\n",
    "headers = {\n",
    "    \"Authorization\": f\"Bearer {TAVILY_API_KEY}\",\n",
    "    \"Content-Type\": \"application/json\"\n",
    "}\n",
    "payload = {\n",
    "    \"urls\": description_link,\n",
    "    \"include_images\": False,\n",
    "    \"extract_depth\": \"advanced\"\n",
    "}\n",
    "\n",
    "response = requests.request(\"POST\", url, json=payload, headers=headers)\n",
    "data = response.json()"
   ]
  },
  {
   "cell_type": "code",
   "execution_count": null,
   "id": "11e8a7b0",
   "metadata": {},
   "outputs": [],
   "source": [
    "print(data['results'][0]['raw_content'])"
   ]
  },
  {
   "cell_type": "code",
   "execution_count": null,
   "id": "29d8a410",
   "metadata": {},
   "outputs": [],
   "source": [
    "def get_patent_text(patent_number):\n",
    "\n",
    "    # Get the patent serpapi link\n",
    "    url = \"https://serpapi.com/search\"\n",
    "    params = {\n",
    "        'engine': 'google_patents',\n",
    "        'q': patent_number,\n",
    "        'api_key': f\"{SERP_API_KEY}\"\n",
    "    }\n",
    "\n",
    "    serpapi_link = requests.get(url, params=params).json()['organic_results'][0]['serpapi_link']\n",
    "\n",
    "\n",
    "    # Get the patent description link\n",
    "    params = {\n",
    "        'engine': 'google_patents_details',\n",
    "        'patent_id': patent_number,\n",
    "        'api_key': f\"{SERP_API_KEY}\"\n",
    "    }\n",
    "\n",
    "    description_link = requests.get(serpapi_link, params=params).json()['description_link']\n",
    "\n",
    "\n",
    "    # Extract the text using tavily\n",
    "    url = \"https://api.tavily.com/extract\"\n",
    "    headers = {\n",
    "        \"Authorization\": f\"Bearer {TAVILY_API_KEY}\",\n",
    "        \"Content-Type\": \"application/json\"\n",
    "    }\n",
    "    payload = {\n",
    "        \"urls\": description_link,\n",
    "        \"include_images\": False,\n",
    "        \"extract_depth\": \"advanced\"\n",
    "    }\n",
    "\n",
    "    response = requests.request(\"POST\", url, json=payload, headers=headers)\n",
    "    data = response.json()\n",
    "    content = data['results'][0]['raw_content']\n",
    "\n",
    "    return content"
   ]
  },
  {
   "cell_type": "code",
   "execution_count": null,
   "id": "e06bafe0",
   "metadata": {},
   "outputs": [],
   "source": [
    "get_patent_text(claims_return['references'][1])"
   ]
  },
  {
   "cell_type": "code",
   "execution_count": null,
   "id": "1c7dff27",
   "metadata": {},
   "outputs": [],
   "source": [
    "def fetch_patents(state: State):\n",
    "\n",
    "    print(\"\\nFetching other relevant patents ...\")\n",
    "\n",
    "    other_patents = {}\n",
    "    if len(state['references']) != 0:\n",
    "        for pat_num in state['references']:\n",
    "            content = get_patent_text(pat_num)\n",
    "            other_patents[pat_num] = content\n",
    "\n",
    "    print(\"✅ Fetched other relevant patents\")\n",
    "\n",
    "    return {'other_patents': other_patents}\n"
   ]
  },
  {
   "cell_type": "code",
   "execution_count": null,
   "id": "cc856bad",
   "metadata": {},
   "outputs": [],
   "source": [
    "fetch_patents_return = fetch_patents({\n",
    "    'references': claims_return['references']\n",
    "})\n",
    "fetch_patents_return"
   ]
  },
  {
   "cell_type": "code",
   "execution_count": null,
   "id": "782c88a6",
   "metadata": {},
   "outputs": [],
   "source": [
    "def decide_action(state: State):\n",
    "\n",
    "    print(\"\\nDeciding on the best strategy ...\")\n",
    "\n",
    "    # Load the prompt template\n",
    "    with open(\"/Users/Mark/code/MarkBerkovics/projects/Lawyer_bot/docs/prompt/system_prompt_dev.txt\", \"r\") as f:\n",
    "        prompt_template = f.read()\n",
    "\n",
    "    prompt = PromptTemplate.from_template(prompt_template)\n",
    "\n",
    "    # Concatenating the KB into a single string\n",
    "    knoeledge_base = \"\\n\".join([d.page_content for d in state['knowledge_base']])\n",
    "\n",
    "    chain = prompt | model | output_parser\n",
    "\n",
    "    response = chain.invoke({\n",
    "        'patent_application': state['patent_application'],\n",
    "        'office_action': state['office_action'],\n",
    "        'knowledge_base': knoeledge_base,\n",
    "        'rejected_claims': state['rejected_claims'],\n",
    "        'original_claims': state['original_claims']\n",
    "    })\n",
    "\n",
    "    print(\"✅ Strategy decided\")\n",
    "\n",
    "    return {'strategy': response}"
   ]
  },
  {
   "cell_type": "code",
   "execution_count": null,
   "id": "5b459b8e",
   "metadata": {},
   "outputs": [],
   "source": [
    "model_return = decide_action({\n",
    "    'patent_application': docs_return['patent_application'],\n",
    "    'office_action': docs_return['office_action'],\n",
    "    'knowledge_base': retrieve_return['knowledge_base'],\n",
    "    'rejected_claims': claims_return['rejected_claims'],\n",
    "    'original_claims': claims_return['original_claims']\n",
    "})\n",
    "model_return"
   ]
  },
  {
   "cell_type": "code",
   "execution_count": null,
   "id": "ff9a8365",
   "metadata": {},
   "outputs": [],
   "source": [
    "print(model_return['strategy'])"
   ]
  },
  {
   "cell_type": "code",
   "execution_count": null,
   "id": "5b6b5d17",
   "metadata": {},
   "outputs": [],
   "source": [
    "temp_resp = model.invoke(f\"how many action steps are in this strategy: {model_return['strategy']}? Return only a number\").content\n",
    "temp_resp"
   ]
  },
  {
   "cell_type": "code",
   "execution_count": null,
   "id": "37b612dd",
   "metadata": {},
   "outputs": [],
   "source": [
    "for i in \"\":\n",
    "    print(\"test\")"
   ]
  },
  {
   "cell_type": "code",
   "execution_count": null,
   "id": "28b62ec9",
   "metadata": {},
   "outputs": [],
   "source": [
    "for i in range(int(temp_resp)):\n",
    "    step = model.invoke(f\"What is action step number {i+1} in this strategy: {model_return['strategy']}? \\\n",
    "                          Return just the action step as it is, do not add text.\").content\n",
    "    print(f\"{i+1}. {step}\\n\")\n",
    "\n",
    "    needed_references = model.invoke(f\"what patent references are needed for this action step: {step}? \\\n",
    "                                       Return only the patent numbers in a list without any added characters. \\\n",
    "                                       If there are no references needed in this action step, return an empty string\").content\n",
    "\n",
    "    if needed_references:\n",
    "        needed_references = needed_references.split('\\n')\n",
    "        for ref in needed_references:\n",
    "            print(ref.strip())\n",
    "            if ref.strip() in fetch_patents_return['other_patents']:\n",
    "                references_text = fetch_patents_return['other_patents'][ref.strip()]\n",
    "                print(references_text)\n",
    "                print(\"\\n\")\n",
    "\n",
    "    print('\\n')"
   ]
  },
  {
   "cell_type": "code",
   "execution_count": null,
   "id": "da8f38bd",
   "metadata": {},
   "outputs": [],
   "source": [
    "def execute(state: State):\n",
    "\n",
    "    print(\"\\nExecuting the strategy ...\")\n",
    "\n",
    "    knowledge_base = \"\\n\".join([d.page_content for d in state['knowledge_base']])\n",
    "\n",
    "    num_of_steps = model.invoke(f\"how many action steps are in this strategy: {state['strategy']}? \\\n",
    "                                  Return only a number\").content\n",
    "\n",
    "    responses = []\n",
    "    for i in range(int(num_of_steps)):\n",
    "        step = model.invoke(f\"What is action step number {i+1} in this strategy: {model_return['strategy']}? \\\n",
    "                          Return just the action step as it is, do not add text.\").content\n",
    "\n",
    "        needed_references = model.invoke(f\"what patent references are needed for this action step: {step}? \\\n",
    "                                       Return only the patent numbers in a list without any added characters. \\\n",
    "                                       If there are no references needed in this action step, return an empty string\").content\n",
    "\n",
    "        if needed_references:\n",
    "            needed_references = needed_references.split('\\n')\n",
    "            references_text = \"\"\n",
    "            for ref in needed_references:\n",
    "                if ref.strip() in state['references']:\n",
    "                    references_text = references_text + state['other_patents'][ref.strip()] + '\\n'\n",
    "\n",
    "        # Load the prompt template\n",
    "        with open(\"/Users/Mark/code/MarkBerkovics/projects/Lawyer_bot/docs/prompt/system_prompt_exec.txt\", \"r\") as f:\n",
    "            exec_prompt_temp = f.read()\n",
    "\n",
    "        exec_prompt = PromptTemplate.from_template(exec_prompt_temp)\n",
    "\n",
    "        chain = exec_prompt | model | output_parser\n",
    "\n",
    "        response = chain.invoke({\n",
    "            'knowledge_base': knowledge_base,\n",
    "            'patent_application': state['patent_application'],\n",
    "            'strategy': state['strategy'],\n",
    "            'references_text': references_text,\n",
    "            'step': step\n",
    "        })\n",
    "\n",
    "        responses.append(response)\n",
    "\n",
    "    print(\"✅ Strategy executed\")\n",
    "\n",
    "    return {'responses': responses}"
   ]
  },
  {
   "cell_type": "code",
   "execution_count": null,
   "id": "b301eb98",
   "metadata": {},
   "outputs": [],
   "source": [
    "execute_return = execute({\n",
    "    'knowledge_base': retrieve_return['knowledge_base'],\n",
    "    'patent_application': docs_return['patent_application'],\n",
    "    'strategy': model_return['strategy'],\n",
    "    'references': claims_return['references'],\n",
    "    'other_patents': fetch_patents_return['other_patents'],\n",
    "})\n",
    "execute_return"
   ]
  },
  {
   "cell_type": "code",
   "execution_count": null,
   "id": "38052fd9",
   "metadata": {},
   "outputs": [],
   "source": [
    "print(execute_return['responses'][1])"
   ]
  },
  {
   "cell_type": "code",
   "execution_count": null,
   "id": "9ca9cd07",
   "metadata": {},
   "outputs": [],
   "source": [
    "def edit_draft(state: State):\n",
    "\n",
    "    print(\"Preparing the draft ... \\n\\n\")\n",
    "\n",
    "    responses = \"\\n\".join(state['responses'])\n",
    "\n",
    "    example_loader = PyPDFLoader(\"/Users/Mark/code/MarkBerkovics/projects/Lawyer_bot/docs/4838US/4838US RESOA 2.10.pdf\")\n",
    "    example_docs = example_loader.load()\n",
    "    example_txt = \"\\n\".join([d.page_content for d in example_docs])\n",
    "\n",
    "    edit_prompt_template = f\"You are an expert patent lawyer. Your job is to craft a formal response to the Office Action \\\n",
    "        in a way that is compliant with the MANUAL OF PATENT EXAMINING PROCEDURE. You will get the response in raw format. \\\n",
    "        Here is the raw response: {responses}. You need to edit the response to make it formal and professional. \\\n",
    "        Use this example to see how the structure should look like: {example_txt}. \\\n",
    "        Make the response to the Office Action professional, elamorate and complete.\"\n",
    "\n",
    "    edit_system_prompt = PromptTemplate.from_template(edit_prompt_template)\n",
    "    chain = edit_system_prompt | model | output_parser\n",
    "\n",
    "    draft = chain.invoke({'responses': responses, 'example_txt': example_txt}, config={\"streaming\": True})\n",
    "\n",
    "    return {'draft': draft}"
   ]
  },
  {
   "cell_type": "code",
   "execution_count": null,
   "id": "69e10793",
   "metadata": {},
   "outputs": [],
   "source": [
    "edit_return = edit_draft({'responses': execute_return['responses']})\n",
    "edit_return"
   ]
  },
  {
   "cell_type": "code",
   "execution_count": null,
   "id": "6dec7289",
   "metadata": {},
   "outputs": [],
   "source": [
    "print(edit_return['draft'])"
   ]
  },
  {
   "cell_type": "markdown",
   "id": "932c78c8",
   "metadata": {},
   "source": [
    "### Conecting it all together"
   ]
  },
  {
   "cell_type": "code",
   "execution_count": null,
   "id": "49f1d6ff",
   "metadata": {},
   "outputs": [],
   "source": [
    "len('')"
   ]
  },
  {
   "cell_type": "code",
   "execution_count": null,
   "id": "e99ec8e8",
   "metadata": {},
   "outputs": [],
   "source": [
    "patents_list = ''.split('\\n')\n",
    "patents_list"
   ]
  },
  {
   "cell_type": "code",
   "execution_count": null,
   "id": "b69763ae",
   "metadata": {},
   "outputs": [],
   "source": [
    "patents_list = [p.strip() for p in patents_list if len(p.strip()) > 1]\n",
    "patents_list"
   ]
  },
  {
   "cell_type": "code",
   "execution_count": null,
   "id": "1f1f67de",
   "metadata": {},
   "outputs": [],
   "source": [
    "graph_builder = StateGraph(State)"
   ]
  },
  {
   "cell_type": "code",
   "execution_count": null,
   "id": "dd30ee66",
   "metadata": {},
   "outputs": [],
   "source": [
    "graph_builder.add_node(\"load_documents\", load_documents)\n",
    "graph_builder.add_node(\"extract_claims_and_references\", extract_claims_and_references)\n",
    "graph_builder.add_node(\"fetch_patents\", fetch_patents)\n",
    "graph_builder.add_node(\"retrieve\", retrieve)\n",
    "\n",
    "graph_builder.add_node(\"decide_action\", decide_action)\n",
    "graph_builder.add_node(\"execute\", execute)\n",
    "graph_builder.add_node(\"edit_draft\", edit_draft)"
   ]
  },
  {
   "cell_type": "code",
   "execution_count": null,
   "id": "ac8531e4",
   "metadata": {},
   "outputs": [],
   "source": [
    "graph_builder.set_entry_point(\"load_documents\")\n",
    "\n",
    "graph_builder.add_edge(\"load_documents\", \"extract_claims_and_references\")\n",
    "graph_builder.add_edge(\"extract_claims_and_references\", \"fetch_patents\")\n",
    "graph_builder.add_edge(\"fetch_patents\", \"retrieve\")\n",
    "\n",
    "graph_builder.add_edge(\"retrieve\", \"decide_action\")\n",
    "graph_builder.add_edge(\"decide_action\", \"execute\")\n",
    "graph_builder.add_edge(\"execute\", \"edit_draft\")\n",
    "\n",
    "graph_builder.add_edge(\"edit_draft\", END)"
   ]
  },
  {
   "cell_type": "code",
   "execution_count": null,
   "id": "bad3923c",
   "metadata": {},
   "outputs": [],
   "source": [
    "# Add memory, compile and add a thread to the config\n",
    "memory = MemorySaver()\n",
    "patent_graph = graph_builder.compile(checkpointer=memory)"
   ]
  },
  {
   "cell_type": "code",
   "execution_count": null,
   "id": "99a5d76d",
   "metadata": {},
   "outputs": [],
   "source": [
    "patent_graph"
   ]
  },
  {
   "cell_type": "code",
   "execution_count": null,
   "id": "b60062d8",
   "metadata": {},
   "outputs": [],
   "source": [
    "thread = {\"configurable\": {\"thread_id\": \"1\"}}"
   ]
  },
  {
   "cell_type": "code",
   "execution_count": null,
   "id": "1aa74629",
   "metadata": {},
   "outputs": [],
   "source": [
    "patent_application = \"/Users/Mark/code/MarkBerkovics/projects/Lawyer_bot/docs/4838US/4838US Application as filed.pdf\"\n",
    "office_action = \"/Users/Mark/code/MarkBerkovics/projects/Lawyer_bot/docs/4838US/4838US - OA - fixed.pdf\""
   ]
  },
  {
   "cell_type": "code",
   "execution_count": null,
   "id": "bec9da7f",
   "metadata": {},
   "outputs": [],
   "source": [
    "for m in patent_graph.stream({'patent_application': patent_application, 'office_action': office_action}, config=thread, stream_mode='messages'):\n",
    "    if isinstance(m[0], langchain_core.messages.ai.AIMessageChunk):\n",
    "        if \"streaming\" in m[1].keys():\n",
    "            print(m[0].content, end='', flush=True)\n",
    "            time.sleep(0.1)"
   ]
  },
  {
   "cell_type": "markdown",
   "id": "b94a7667",
   "metadata": {},
   "source": [
    "## Send the draft to a google doc"
   ]
  },
  {
   "cell_type": "code",
   "execution_count": null,
   "id": "b2855d0c",
   "metadata": {},
   "outputs": [],
   "source": []
  }
 ],
 "metadata": {
  "kernelspec": {
   "display_name": "lewagon",
   "language": "python",
   "name": "python3"
  },
  "language_info": {
   "codemirror_mode": {
    "name": "ipython",
    "version": 3
   },
   "file_extension": ".py",
   "mimetype": "text/x-python",
   "name": "python",
   "nbconvert_exporter": "python",
   "pygments_lexer": "ipython3",
   "version": "3.10.6"
  },
  "toc": {
   "base_numbering": 1,
   "nav_menu": {},
   "number_sections": true,
   "sideBar": true,
   "skip_h1_title": false,
   "title_cell": "Table of Contents",
   "title_sidebar": "Contents",
   "toc_cell": false,
   "toc_position": {},
   "toc_section_display": true,
   "toc_window_display": false
  },
  "varInspector": {
   "cols": {
    "lenName": 16,
    "lenType": 16,
    "lenVar": 40
   },
   "kernels_config": {
    "python": {
     "delete_cmd_postfix": "",
     "delete_cmd_prefix": "del ",
     "library": "var_list.py",
     "varRefreshCmd": "print(var_dic_list())"
    },
    "r": {
     "delete_cmd_postfix": ") ",
     "delete_cmd_prefix": "rm(",
     "library": "var_list.r",
     "varRefreshCmd": "cat(var_dic_list()) "
    }
   },
   "types_to_exclude": [
    "module",
    "function",
    "builtin_function_or_method",
    "instance",
    "_Feature"
   ],
   "window_display": false
  }
 },
 "nbformat": 4,
 "nbformat_minor": 5
}
