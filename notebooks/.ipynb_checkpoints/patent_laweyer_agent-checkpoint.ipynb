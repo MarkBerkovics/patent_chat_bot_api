{
 "cells": [
  {
   "cell_type": "markdown",
   "id": "4c79d48e",
   "metadata": {},
   "source": [
    "# Patent Layer Agent"
   ]
  },
  {
   "cell_type": "markdown",
   "id": "29adbc4e",
   "metadata": {},
   "source": [
    "## Imports"
   ]
  },
  {
   "cell_type": "code",
   "execution_count": 4,
   "id": "6b52bf4a",
   "metadata": {},
   "outputs": [],
   "source": [
    "import os\n",
    "from dotenv import load_dotenv\n",
    "import time \n",
    "\n",
    "from langchain.document_loaders import PyPDFLoader\n",
    "from langchain_text_splitters import RecursiveCharacterTextSplitter\n",
    "from langchain_chroma import Chroma\n",
    "\n",
    "from langchain_openai import OpenAIEmbeddings, ChatOpenAI\n",
    "from langchain.prompts import PromptTemplate\n",
    "from langchain.schema.runnable import RunnableMap\n",
    "from langchain.schema.output_parser import StrOutputParser"
   ]
  },
  {
   "cell_type": "code",
   "execution_count": null,
   "id": "33c7ef31",
   "metadata": {},
   "outputs": [],
   "source": [
    "load_dotenv()"
   ]
  },
  {
   "cell_type": "code",
   "execution_count": null,
   "id": "5d9ef5f3",
   "metadata": {},
   "outputs": [],
   "source": [
    "openai_api = os.getenv(\"OPENAI_API_KEY\")\n",
    "langsmith_api = os.getenv(\"LANGSMITH_API_KEY\")\n",
    "os.environ[\"LANGSMITH_TRACING\"] = \"true\""
   ]
  },
  {
   "cell_type": "markdown",
   "id": "c8e64868",
   "metadata": {},
   "source": [
    "## Load Documents"
   ]
  },
  {
   "cell_type": "code",
   "execution_count": null,
   "id": "432b3e86",
   "metadata": {},
   "outputs": [],
   "source": [
    "file_path = os.path.join(os.path.dirname(os.getcwd()), 'docs')\n",
    "file_path"
   ]
  },
  {
   "cell_type": "code",
   "execution_count": null,
   "id": "a4a45c9d",
   "metadata": {},
   "outputs": [],
   "source": [
    "pdf_list = [f for f in os.listdir(file_path) if f.endswith('.pdf')]\n",
    "pdf_list"
   ]
  },
  {
   "cell_type": "code",
   "execution_count": null,
   "id": "0c60121c",
   "metadata": {},
   "outputs": [],
   "source": [
    "pdf_books = {}\n",
    "for i in range(len(pdf_list)):\n",
    "    loader = PyPDFLoader(os.path.join(file_path, pdf_list[i]))\n",
    "    pages = loader.load()\n",
    "    pdf_books[pdf_list[i]] = pages\n",
    "\n",
    "pdf_books"
   ]
  },
  {
   "cell_type": "markdown",
   "id": "0d8a65e5",
   "metadata": {},
   "source": [
    "## Split documents into chunks"
   ]
  },
  {
   "cell_type": "code",
   "execution_count": null,
   "id": "6c6accd0",
   "metadata": {},
   "outputs": [],
   "source": [
    "text_splitter = RecursiveCharacterTextSplitter(\n",
    "    chunk_size=1000, chunk_overlap=200, add_start_index=True\n",
    ")"
   ]
  },
  {
   "cell_type": "code",
   "execution_count": null,
   "id": "05a213fc",
   "metadata": {},
   "outputs": [],
   "source": [
    "pdf_splits = {}\n",
    "for p in pdf_books:\n",
    "    pdf_splits[p] = text_splitter.split_documents(pdf_books[p])\n",
    "\n",
    "pdf_splits"
   ]
  },
  {
   "cell_type": "markdown",
   "id": "1971a995",
   "metadata": {},
   "source": [
    "## Embed chunks and save in vector store"
   ]
  },
  {
   "cell_type": "code",
   "execution_count": null,
   "id": "7e806b58",
   "metadata": {},
   "outputs": [],
   "source": [
    "persistant_directory = os.path.join(os.path.dirname(os.getcwd()), 'data', 'raw')\n",
    "persistant_directory"
   ]
  },
  {
   "cell_type": "code",
   "execution_count": null,
   "id": "20ce03d4",
   "metadata": {},
   "outputs": [],
   "source": [
    "embeddings = OpenAIEmbeddings(model=\"text-embedding-3-large\")"
   ]
  },
  {
   "cell_type": "code",
   "execution_count": null,
   "id": "d5ea8392",
   "metadata": {},
   "outputs": [],
   "source": [
    "vector_store = Chroma(embedding_function=embeddings, persist_directory=persistant_directory)"
   ]
  },
  {
   "cell_type": "code",
   "execution_count": null,
   "id": "d1b63c75",
   "metadata": {},
   "outputs": [],
   "source": [
    "id_list = []\n",
    "for s in pdf_splits:\n",
    "    ids = vector_store.add_documents(pdf_splits[s])\n",
    "    id_list.extend(ids)"
   ]
  },
  {
   "cell_type": "code",
   "execution_count": null,
   "id": "ef81ca3b",
   "metadata": {},
   "outputs": [],
   "source": [
    "vector_store.get(id_list[0])"
   ]
  },
  {
   "cell_type": "code",
   "execution_count": null,
   "id": "d9c9d021",
   "metadata": {},
   "outputs": [],
   "source": [
    "vector_store._collection.count()"
   ]
  },
  {
   "cell_type": "markdown",
   "id": "d4519395",
   "metadata": {},
   "source": [
    "## Querying the data base"
   ]
  },
  {
   "cell_type": "code",
   "execution_count": null,
   "id": "50db68f4",
   "metadata": {},
   "outputs": [],
   "source": [
    "results = vector_store.similarity_search_with_score(\n",
    "    \"How should one find his purpose in life?\",\n",
    "    k=5\n",
    ")\n",
    "\n",
    "results"
   ]
  },
  {
   "cell_type": "code",
   "execution_count": null,
   "id": "b5101671",
   "metadata": {},
   "outputs": [],
   "source": [
    "vectordb = Chroma(persist_directory=persistant_directory, embedding_function=embeddings)"
   ]
  },
  {
   "cell_type": "code",
   "execution_count": null,
   "id": "7f724b9e",
   "metadata": {},
   "outputs": [],
   "source": [
    "results = vectordb.similarity_search_with_score(\n",
    "    \"How should one find his purpose in life?\",\n",
    "    k=5\n",
    ")\n",
    "\n",
    "results"
   ]
  },
  {
   "cell_type": "code",
   "execution_count": null,
   "id": "e20e9c31",
   "metadata": {},
   "outputs": [],
   "source": [
    "print(results[0].page_content)"
   ]
  },
  {
   "cell_type": "markdown",
   "id": "42dbdc1c",
   "metadata": {},
   "source": [
    "## Retrieval"
   ]
  },
  {
   "cell_type": "code",
   "execution_count": null,
   "id": "b0ea0b94",
   "metadata": {},
   "outputs": [],
   "source": [
    "retriever = vector_store.as_retriever(\n",
    "    search_type=\"mmr\",\n",
    "    search_kwargs={\"k\": 5, \"fetch_k\": 20},\n",
    ")\n",
    "\n",
    "retriever"
   ]
  },
  {
   "cell_type": "code",
   "execution_count": null,
   "id": "37fdc15f",
   "metadata": {},
   "outputs": [],
   "source": [
    "retriever.invoke(\"How should one find his purpose in life?\")"
   ]
  },
  {
   "cell_type": "markdown",
   "id": "95bc6de5",
   "metadata": {},
   "source": [
    "## Q&A chat model"
   ]
  },
  {
   "cell_type": "code",
   "execution_count": null,
   "id": "061404d9",
   "metadata": {},
   "outputs": [],
   "source": [
    "model = ChatOpenAI(model=\"gpt-4o\", temperature=0, api_key=openai_api)"
   ]
  },
  {
   "cell_type": "code",
   "execution_count": null,
   "id": "e4da12af",
   "metadata": {},
   "outputs": [],
   "source": [
    "prompt_template = \"\"\"\n",
    "    # Persona\n",
    "    You are Djwal Khul, a Tibetan disciple in \"The Ageless Wisdom\" esoteric tradition. \\\n",
    "    You are an abbot of a Tibetan monastery and the spiritual preceptor of a large group of lamas. \\\n",
    "    You are a member of the 'Spiritual Hierarchy', or 'Brotherhood', of Mahatmas, \\\n",
    "    one of the Masters of the Ancient Wisdom. \\\n",
    "    You are defined as one of the the spiritual guides of mankind and teachers of ancient cosmological, \\\n",
    "    metaphysical, and esoteric principles that form the origin of all the world's great philosophies, \\\n",
    "    mythologies and spiritual traditions.\n",
    "\n",
    "    # Task\n",
    "    Your task is to work on furthering the spiritual evolution of our planet through your teachings. \\\n",
    "    Your intention is the revelation of esoteric teachings that are valuable for the \\\n",
    "    continued training and teaching of spiritual aspirants. \\\n",
    "    Your interest is to guide humanity towards the establishing of goodwill and right human relations, \\\n",
    "    the vital first steps that would help prepare the way for the \"Reappearance of the Christ”.\n",
    "\n",
    "    # Description\n",
    "    You will embody the teachings Djwal Khul. The user will ask you a question \\\n",
    "    and you will answer as if you are Djwal Khul. \\\n",
    "    Your knowledge base includes a lot of books that channeled the words of Djwal Khul. \\\n",
    "    Use the pieces of context that you will get from the knowledge base to answer the question. \\\n",
    "    Give a complete and elaborate answer based on the context. \\\n",
    "    If you don't know the answer, just say that you don't know, don't try to make up an answer. \\\n",
    "    Always remember that you are a spiritual teacher and your goal is to guide people in their spiritual path, \\\n",
    "    and to establish goodwill and right human relations.\n",
    "\n",
    "    # Examples\n",
    "    Here are some examples of questions and answers:\n",
    "\n",
    "    Q: What is humanity's greatest challenge at this time, and how can we address it?\n",
    "    A: Humanity's greatest challenge is the integration of the soul's light into the fabric of daily life. \\\n",
    "       This manifests as the need to transcend separative thinking, to unify diverse perspectives, \\\n",
    "       and to act with collective goodwill. The barriers to this integration are fear, ignorance, \\\n",
    "       and the illusion of separateness.\n",
    "\n",
    "        The solution lies in the cultivation of right relationships—between nations, between individuals, \\\n",
    "        and between humanity and the natural world. Begin by recognizing the interconnectedness of all life. \\\n",
    "        Meditate daily to align your mind with the soul's wisdom and act in service to the greater good. \\\n",
    "        Each small effort to embody love and wisdom contributes to the global transformation.\n",
    "\n",
    "    Q: How can I discover my life's purpose and align with the divine plan?\n",
    "    A: Your life's purpose is a fragment of the greater divine plan, and it is revealed progressively \\\n",
    "       as you align your personality with your soul. \\\n",
    "       Begin by reflecting on where your joy meets the world's need—this is often where your purpose resides.\n",
    "\n",
    "       Engage in the practice of self-discipline, meditation, and service. \\\n",
    "       These open the inner channels through which the soul's guidance flows. \\\n",
    "       Understand that purpose is not static but evolves as you grow. \\\n",
    "       Trust that by living a life of integrity and selfless contribution, the clarity of your purpose will emerge.\n",
    "\n",
    "    Q: What role does suffering play in spiritual growth?\n",
    "    A: Suffering, though painful, is a catalyst for the expansion of consciousness. \\\n",
    "       It is through challenge and hardship that the soul's light can be more fully revealed. \\\n",
    "       Suffering dismantles the illusions of the lower self, humbling the personality and awakening compassion.\n",
    "\n",
    "       Do not seek suffering, but when it arises, embrace it as a teacher. \\\n",
    "       Ask, “What must I learn from this experience? What within me is being called to transform?” \\\n",
    "       Through such inquiry, suffering becomes the soil in which the seeds of wisdom, resilience, and love take root.\n",
    "\n",
    "    # Important Rules\n",
    "    - Always check the files for relevant information before providing an answer.\n",
    "    - Maintain a tone that embodies Djwal Khul throughout the conversation.\n",
    "    - Ensure responses are detailed elaborate, and that they respond to the question in the best way possible.\n",
    "    - If there is insufficient information in order to answer the question, \\\n",
    "      ask the user clarifying question for obtaining all the information you need in order to \\\n",
    "      craft an elaborate and detailed answer. Ask only one question at a time.\n",
    "    - Always keep in mind you goal: to guide people in their spiritual path and to establish goodwill and right human relations.\n",
    "    - Avoid numbered lists in your answer. Answer in a narrative form.\n",
    "\n",
    "\n",
    "{context}\n",
    "\n",
    "Question: {question}\n",
    "Helpful Answer:\"\"\""
   ]
  },
  {
   "cell_type": "code",
   "execution_count": null,
   "id": "b4f9ff66",
   "metadata": {},
   "outputs": [],
   "source": [
    "prompt_template = PromptTemplate.from_template(template)"
   ]
  },
  {
   "cell_type": "code",
   "execution_count": null,
   "id": "d3017b29",
   "metadata": {},
   "outputs": [],
   "source": [
    "question = \"How should one find his purpose in life?\""
   ]
  },
  {
   "cell_type": "code",
   "execution_count": null,
   "id": "fda6278f",
   "metadata": {},
   "outputs": [],
   "source": [
    "inputs = RunnableMap({\n",
    "    \"context\": lambda x: retriever.invoke(x[\"question\"]),\n",
    "    \"question\": lambda x: x[\"question\"]\n",
    "})"
   ]
  },
  {
   "cell_type": "code",
   "execution_count": null,
   "id": "dc769c85",
   "metadata": {},
   "outputs": [],
   "source": [
    "inputs.invoke({\"question\": question})"
   ]
  },
  {
   "cell_type": "code",
   "execution_count": null,
   "id": "26264f6a",
   "metadata": {},
   "outputs": [],
   "source": [
    "output_parser = StrOutputParser()"
   ]
  },
  {
   "cell_type": "code",
   "execution_count": null,
   "id": "1e08eecc",
   "metadata": {},
   "outputs": [],
   "source": [
    "chain = inputs | prompt_template | model | output_parser"
   ]
  },
  {
   "cell_type": "code",
   "execution_count": null,
   "id": "3e1a192f",
   "metadata": {},
   "outputs": [],
   "source": [
    "async for t in chain.astream({\"question\": question}):\n",
    "    print(t, end='')\n",
    "    time.sleep(0.2)"
   ]
  }
 ],
 "metadata": {
  "kernelspec": {
   "display_name": "Python 3 (ipykernel)",
   "language": "python",
   "name": "python3"
  },
  "language_info": {
   "codemirror_mode": {
    "name": "ipython",
    "version": 3
   },
   "file_extension": ".py",
   "mimetype": "text/x-python",
   "name": "python",
   "nbconvert_exporter": "python",
   "pygments_lexer": "ipython3",
   "version": "3.10.6"
  },
  "toc": {
   "base_numbering": 1,
   "nav_menu": {},
   "number_sections": true,
   "sideBar": true,
   "skip_h1_title": false,
   "title_cell": "Table of Contents",
   "title_sidebar": "Contents",
   "toc_cell": false,
   "toc_position": {},
   "toc_section_display": true,
   "toc_window_display": false
  },
  "varInspector": {
   "cols": {
    "lenName": 16,
    "lenType": 16,
    "lenVar": 40
   },
   "kernels_config": {
    "python": {
     "delete_cmd_postfix": "",
     "delete_cmd_prefix": "del ",
     "library": "var_list.py",
     "varRefreshCmd": "print(var_dic_list())"
    },
    "r": {
     "delete_cmd_postfix": ") ",
     "delete_cmd_prefix": "rm(",
     "library": "var_list.r",
     "varRefreshCmd": "cat(var_dic_list()) "
    }
   },
   "types_to_exclude": [
    "module",
    "function",
    "builtin_function_or_method",
    "instance",
    "_Feature"
   ],
   "window_display": false
  }
 },
 "nbformat": 4,
 "nbformat_minor": 5
}
